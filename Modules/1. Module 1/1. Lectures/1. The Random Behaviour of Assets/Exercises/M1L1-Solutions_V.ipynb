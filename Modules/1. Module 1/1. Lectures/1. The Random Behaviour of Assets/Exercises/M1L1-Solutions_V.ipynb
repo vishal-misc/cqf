{
 "cells": [
  {
   "cell_type": "code",
   "execution_count": 2,
   "metadata": {},
   "outputs": [
    {
     "data": {
      "text/html": [
       "<div>\n",
       "<style scoped>\n",
       "    .dataframe tbody tr th:only-of-type {\n",
       "        vertical-align: middle;\n",
       "    }\n",
       "\n",
       "    .dataframe tbody tr th {\n",
       "        vertical-align: top;\n",
       "    }\n",
       "\n",
       "    .dataframe thead th {\n",
       "        text-align: right;\n",
       "    }\n",
       "</style>\n",
       "<table border=\"1\" class=\"dataframe\">\n",
       "  <thead>\n",
       "    <tr style=\"text-align: right;\">\n",
       "      <th></th>\n",
       "      <th>Date</th>\n",
       "      <th>Close</th>\n",
       "    </tr>\n",
       "  </thead>\n",
       "  <tbody>\n",
       "    <tr>\n",
       "      <th>0</th>\n",
       "      <td>30/12/1927</td>\n",
       "      <td>17.660000</td>\n",
       "    </tr>\n",
       "    <tr>\n",
       "      <th>1</th>\n",
       "      <td>03/01/1928</td>\n",
       "      <td>17.760000</td>\n",
       "    </tr>\n",
       "    <tr>\n",
       "      <th>2</th>\n",
       "      <td>04/01/1928</td>\n",
       "      <td>17.719999</td>\n",
       "    </tr>\n",
       "    <tr>\n",
       "      <th>3</th>\n",
       "      <td>05/01/1928</td>\n",
       "      <td>17.549999</td>\n",
       "    </tr>\n",
       "    <tr>\n",
       "      <th>4</th>\n",
       "      <td>06/01/1928</td>\n",
       "      <td>17.660000</td>\n",
       "    </tr>\n",
       "    <tr>\n",
       "      <th>...</th>\n",
       "      <td>...</td>\n",
       "      <td>...</td>\n",
       "    </tr>\n",
       "    <tr>\n",
       "      <th>24123</th>\n",
       "      <td>12/01/2024</td>\n",
       "      <td>4783.830078</td>\n",
       "    </tr>\n",
       "    <tr>\n",
       "      <th>24124</th>\n",
       "      <td>16/01/2024</td>\n",
       "      <td>4765.979980</td>\n",
       "    </tr>\n",
       "    <tr>\n",
       "      <th>24125</th>\n",
       "      <td>17/01/2024</td>\n",
       "      <td>4739.209961</td>\n",
       "    </tr>\n",
       "    <tr>\n",
       "      <th>24126</th>\n",
       "      <td>18/01/2024</td>\n",
       "      <td>4780.939941</td>\n",
       "    </tr>\n",
       "    <tr>\n",
       "      <th>24127</th>\n",
       "      <td>19/01/2024</td>\n",
       "      <td>4839.810059</td>\n",
       "    </tr>\n",
       "  </tbody>\n",
       "</table>\n",
       "<p>24128 rows × 2 columns</p>\n",
       "</div>"
      ],
      "text/plain": [
       "             Date        Close\n",
       "0      30/12/1927    17.660000\n",
       "1      03/01/1928    17.760000\n",
       "2      04/01/1928    17.719999\n",
       "3      05/01/1928    17.549999\n",
       "4      06/01/1928    17.660000\n",
       "...           ...          ...\n",
       "24123  12/01/2024  4783.830078\n",
       "24124  16/01/2024  4765.979980\n",
       "24125  17/01/2024  4739.209961\n",
       "24126  18/01/2024  4780.939941\n",
       "24127  19/01/2024  4839.810059\n",
       "\n",
       "[24128 rows x 2 columns]"
      ]
     },
     "execution_count": 2,
     "metadata": {},
     "output_type": "execute_result"
    }
   ],
   "source": [
    "import numpy as np\n",
    "import pandas as pd\n",
    "import matplotlib.pyplot as plt\n",
    "from scipy.stats import norm\n",
    "\n",
    "sp500 = pd.read_csv('../CQF_Jan_24_M1L1_Excel-1.csv', usecols=[0,4])\n",
    "sp500"
   ]
  },
  {
   "cell_type": "markdown",
   "metadata": {},
   "source": [
    "## 1\n",
    "\n",
    "We consider the 1D, 2D & 5D returns with $R_i = \\frac{S_{t+n} - S_t}{S_t}$:"
   ]
  },
  {
   "cell_type": "code",
   "execution_count": 3,
   "metadata": {},
   "outputs": [
    {
     "data": {
      "text/html": [
       "<div>\n",
       "<style scoped>\n",
       "    .dataframe tbody tr th:only-of-type {\n",
       "        vertical-align: middle;\n",
       "    }\n",
       "\n",
       "    .dataframe tbody tr th {\n",
       "        vertical-align: top;\n",
       "    }\n",
       "\n",
       "    .dataframe thead th {\n",
       "        text-align: right;\n",
       "    }\n",
       "</style>\n",
       "<table border=\"1\" class=\"dataframe\">\n",
       "  <thead>\n",
       "    <tr style=\"text-align: right;\">\n",
       "      <th></th>\n",
       "      <th>Date</th>\n",
       "      <th>Close</th>\n",
       "      <th>1D_rtns</th>\n",
       "      <th>2D_rtns</th>\n",
       "      <th>5D_rtns</th>\n",
       "    </tr>\n",
       "  </thead>\n",
       "  <tbody>\n",
       "    <tr>\n",
       "      <th>0</th>\n",
       "      <td>30/12/1927</td>\n",
       "      <td>17.660000</td>\n",
       "      <td>NaN</td>\n",
       "      <td>NaN</td>\n",
       "      <td>NaN</td>\n",
       "    </tr>\n",
       "    <tr>\n",
       "      <th>1</th>\n",
       "      <td>03/01/1928</td>\n",
       "      <td>17.760000</td>\n",
       "      <td>0.005663</td>\n",
       "      <td>NaN</td>\n",
       "      <td>NaN</td>\n",
       "    </tr>\n",
       "    <tr>\n",
       "      <th>2</th>\n",
       "      <td>04/01/1928</td>\n",
       "      <td>17.719999</td>\n",
       "      <td>-0.002252</td>\n",
       "      <td>0.003397</td>\n",
       "      <td>NaN</td>\n",
       "    </tr>\n",
       "    <tr>\n",
       "      <th>3</th>\n",
       "      <td>05/01/1928</td>\n",
       "      <td>17.549999</td>\n",
       "      <td>-0.009594</td>\n",
       "      <td>-0.011824</td>\n",
       "      <td>NaN</td>\n",
       "    </tr>\n",
       "    <tr>\n",
       "      <th>4</th>\n",
       "      <td>06/01/1928</td>\n",
       "      <td>17.660000</td>\n",
       "      <td>0.006268</td>\n",
       "      <td>-0.003386</td>\n",
       "      <td>NaN</td>\n",
       "    </tr>\n",
       "    <tr>\n",
       "      <th>...</th>\n",
       "      <td>...</td>\n",
       "      <td>...</td>\n",
       "      <td>...</td>\n",
       "      <td>...</td>\n",
       "      <td>...</td>\n",
       "    </tr>\n",
       "    <tr>\n",
       "      <th>24123</th>\n",
       "      <td>12/01/2024</td>\n",
       "      <td>4783.830078</td>\n",
       "      <td>0.000751</td>\n",
       "      <td>0.000079</td>\n",
       "      <td>0.018434</td>\n",
       "    </tr>\n",
       "    <tr>\n",
       "      <th>24124</th>\n",
       "      <td>16/01/2024</td>\n",
       "      <td>4765.979980</td>\n",
       "      <td>-0.003731</td>\n",
       "      <td>-0.002983</td>\n",
       "      <td>0.000512</td>\n",
       "    </tr>\n",
       "    <tr>\n",
       "      <th>24125</th>\n",
       "      <td>17/01/2024</td>\n",
       "      <td>4739.209961</td>\n",
       "      <td>-0.005617</td>\n",
       "      <td>-0.009327</td>\n",
       "      <td>-0.003635</td>\n",
       "    </tr>\n",
       "    <tr>\n",
       "      <th>24126</th>\n",
       "      <td>18/01/2024</td>\n",
       "      <td>4780.939941</td>\n",
       "      <td>0.008805</td>\n",
       "      <td>0.003139</td>\n",
       "      <td>-0.000525</td>\n",
       "    </tr>\n",
       "    <tr>\n",
       "      <th>24127</th>\n",
       "      <td>19/01/2024</td>\n",
       "      <td>4839.810059</td>\n",
       "      <td>0.012314</td>\n",
       "      <td>0.021227</td>\n",
       "      <td>0.012462</td>\n",
       "    </tr>\n",
       "  </tbody>\n",
       "</table>\n",
       "<p>24128 rows × 5 columns</p>\n",
       "</div>"
      ],
      "text/plain": [
       "             Date        Close   1D_rtns   2D_rtns   5D_rtns\n",
       "0      30/12/1927    17.660000       NaN       NaN       NaN\n",
       "1      03/01/1928    17.760000  0.005663       NaN       NaN\n",
       "2      04/01/1928    17.719999 -0.002252  0.003397       NaN\n",
       "3      05/01/1928    17.549999 -0.009594 -0.011824       NaN\n",
       "4      06/01/1928    17.660000  0.006268 -0.003386       NaN\n",
       "...           ...          ...       ...       ...       ...\n",
       "24123  12/01/2024  4783.830078  0.000751  0.000079  0.018434\n",
       "24124  16/01/2024  4765.979980 -0.003731 -0.002983  0.000512\n",
       "24125  17/01/2024  4739.209961 -0.005617 -0.009327 -0.003635\n",
       "24126  18/01/2024  4780.939941  0.008805  0.003139 -0.000525\n",
       "24127  19/01/2024  4839.810059  0.012314  0.021227  0.012462\n",
       "\n",
       "[24128 rows x 5 columns]"
      ]
     },
     "execution_count": 3,
     "metadata": {},
     "output_type": "execute_result"
    }
   ],
   "source": [
    "def get_rtns(col, n):\n",
    "    return (col - col.shift(n)) / col.shift(n)\n",
    "\n",
    "sp500['1D_rtns'] = get_rtns(sp500['Close'], 1)\n",
    "sp500['2D_rtns'] = get_rtns(sp500['Close'], 2)\n",
    "sp500['5D_rtns'] = get_rtns(sp500['Close'], 5)\n",
    "\n",
    "sp500"
   ]
  },
  {
   "cell_type": "markdown",
   "metadata": {},
   "source": [
    "We then calculate $\\sigma_{nD}$ for $n=1,2,5$ and check the difference with $\\sigma_{1D}$. They appear to be comparable, within 3% error"
   ]
  },
  {
   "cell_type": "code",
   "execution_count": 4,
   "metadata": {},
   "outputs": [
    {
     "name": "stdout",
     "output_type": "stream",
     "text": [
      "Unadjusted sigma_1D = 0.011964325009182734\n",
      "Adjusted sigma_1D   = 0.011964325009182734\n",
      "Adjusted sigma_1D % error with sigma_1D = 0.0%\n",
      "\n",
      "Unadjusted sigma_2D = 0.01679579090302241\n",
      "Adjusted sigma_2D   = 0.011876417642918474\n",
      "Adjusted sigma_2D % error with sigma_1D = -0.734745722778263%\n",
      "\n",
      "Unadjusted sigma_5D = 0.026143283244085828\n",
      "Adjusted sigma_5D   = 0.011691631697761428\n",
      "Adjusted sigma_5D % error with sigma_1D = -2.279220191795288%\n",
      "\n"
     ]
    }
   ],
   "source": [
    "std1 = np.std(sp500[f'{1}D_rtns'])\n",
    "for i in [1,2,5]:\n",
    "    std = np.std(sp500[f'{i}D_rtns'])\n",
    "    print(f'Unadjusted sigma_{i}D = {std}')\n",
    "    print(f'Adjusted sigma_{i}D   = {std / np.sqrt(i)}')\n",
    "    print(f'Adjusted sigma_{i}D % error with sigma_1D = {(std / np.sqrt(i) - std1) / std1 * 100}%')\n",
    "    print()"
   ]
  },
  {
   "cell_type": "markdown",
   "metadata": {},
   "source": [
    "## 2\n",
    "We split into even/odd observations and compute $\\mu_{1D}, \\sigma_{1D}$:"
   ]
  },
  {
   "cell_type": "code",
   "execution_count": 5,
   "metadata": {},
   "outputs": [
    {
     "name": "stdout",
     "output_type": "stream",
     "text": [
      "Evens: mu = 610.6832525522215, sigma = 978.4220226011486\n",
      "Odds: mu = 610.8797530760112, sigma = 610.8797530760112\n"
     ]
    }
   ],
   "source": [
    "evens = sp500['Close'][::2]\n",
    "odds = sp500['Close'][1::2]\n",
    "\n",
    "mean_evens = evens.mean()\n",
    "std_evens = evens.std()\n",
    "mean_odds = odds.mean()\n",
    "std_odds = odds.std()\n",
    "\n",
    "print(f'Evens: mu = {mean_evens}, sigma = {std_evens}')\n",
    "print(f'Odds: mu = {mean_odds}, sigma = {mean_odds }')"
   ]
  },
  {
   "cell_type": "markdown",
   "metadata": {},
   "source": [
    "It appears that they have similar means, but the standard deviations differ by a lot (50%ish)"
   ]
  },
  {
   "cell_type": "markdown",
   "metadata": {},
   "source": [
    "## 3\n",
    "We get a fresh copy of the database, to construct the QQ plot:"
   ]
  },
  {
   "cell_type": "code",
   "execution_count": 6,
   "metadata": {},
   "outputs": [],
   "source": [
    "sp500_2 = pd.read_csv('../CQF_Jan_24_M1L1_Excel-1.csv', usecols=[0,4])"
   ]
  },
  {
   "cell_type": "markdown",
   "metadata": {},
   "source": [
    "1. We calculate the historic log returns and scale them"
   ]
  },
  {
   "cell_type": "code",
   "execution_count": 7,
   "metadata": {},
   "outputs": [],
   "source": [
    "sp500_2['historic'] = np.log(sp500_2['Close']/sp500_2['Close'].shift(1))\n",
    "sp500_2['scaled'] = (sp500_2['historic'] - sp500_2['historic'].mean()) / sp500_2['historic'].std()"
   ]
  },
  {
   "cell_type": "markdown",
   "metadata": {},
   "source": [
    "2. We sort and introduce an index column, $i$."
   ]
  },
  {
   "cell_type": "code",
   "execution_count": 8,
   "metadata": {},
   "outputs": [
    {
     "data": {
      "text/html": [
       "<div>\n",
       "<style scoped>\n",
       "    .dataframe tbody tr th:only-of-type {\n",
       "        vertical-align: middle;\n",
       "    }\n",
       "\n",
       "    .dataframe tbody tr th {\n",
       "        vertical-align: top;\n",
       "    }\n",
       "\n",
       "    .dataframe thead th {\n",
       "        text-align: right;\n",
       "    }\n",
       "</style>\n",
       "<table border=\"1\" class=\"dataframe\">\n",
       "  <thead>\n",
       "    <tr style=\"text-align: right;\">\n",
       "      <th></th>\n",
       "      <th>scaled</th>\n",
       "      <th>i</th>\n",
       "    </tr>\n",
       "  </thead>\n",
       "  <tbody>\n",
       "    <tr>\n",
       "      <th>0</th>\n",
       "      <td>-19.125458</td>\n",
       "      <td>1</td>\n",
       "    </tr>\n",
       "    <tr>\n",
       "      <th>1</th>\n",
       "      <td>-11.581281</td>\n",
       "      <td>2</td>\n",
       "    </tr>\n",
       "    <tr>\n",
       "      <th>2</th>\n",
       "      <td>-10.669882</td>\n",
       "      <td>3</td>\n",
       "    </tr>\n",
       "    <tr>\n",
       "      <th>3</th>\n",
       "      <td>-8.956899</td>\n",
       "      <td>4</td>\n",
       "    </tr>\n",
       "    <tr>\n",
       "      <th>4</th>\n",
       "      <td>-8.779553</td>\n",
       "      <td>5</td>\n",
       "    </tr>\n",
       "    <tr>\n",
       "      <th>...</th>\n",
       "      <td>...</td>\n",
       "      <td>...</td>\n",
       "    </tr>\n",
       "    <tr>\n",
       "      <th>24122</th>\n",
       "      <td>9.295103</td>\n",
       "      <td>24123</td>\n",
       "    </tr>\n",
       "    <tr>\n",
       "      <th>24123</th>\n",
       "      <td>9.330453</td>\n",
       "      <td>24124</td>\n",
       "    </tr>\n",
       "    <tr>\n",
       "      <th>24124</th>\n",
       "      <td>9.702468</td>\n",
       "      <td>24125</td>\n",
       "    </tr>\n",
       "    <tr>\n",
       "      <th>24125</th>\n",
       "      <td>9.830325</td>\n",
       "      <td>24126</td>\n",
       "    </tr>\n",
       "    <tr>\n",
       "      <th>24126</th>\n",
       "      <td>12.801092</td>\n",
       "      <td>24127</td>\n",
       "    </tr>\n",
       "  </tbody>\n",
       "</table>\n",
       "<p>24127 rows × 2 columns</p>\n",
       "</div>"
      ],
      "text/plain": [
       "          scaled      i\n",
       "0     -19.125458      1\n",
       "1     -11.581281      2\n",
       "2     -10.669882      3\n",
       "3      -8.956899      4\n",
       "4      -8.779553      5\n",
       "...          ...    ...\n",
       "24122   9.295103  24123\n",
       "24123   9.330453  24124\n",
       "24124   9.702468  24125\n",
       "24125   9.830325  24126\n",
       "24126  12.801092  24127\n",
       "\n",
       "[24127 rows x 2 columns]"
      ]
     },
     "execution_count": 8,
     "metadata": {},
     "output_type": "execute_result"
    }
   ],
   "source": [
    "returns_df = sp500_2['scaled'].dropna().sort_values().to_frame()\n",
    "returns_df = returns_df.reset_index(drop=True)\n",
    "returns_df['i'] = returns_df.index+1\n",
    "returns_df"
   ]
  },
  {
   "cell_type": "markdown",
   "metadata": {},
   "source": [
    "3. We introduce the cumulative density, i.e $i/N$"
   ]
  },
  {
   "cell_type": "code",
   "execution_count": 9,
   "metadata": {},
   "outputs": [
    {
     "data": {
      "text/html": [
       "<div>\n",
       "<style scoped>\n",
       "    .dataframe tbody tr th:only-of-type {\n",
       "        vertical-align: middle;\n",
       "    }\n",
       "\n",
       "    .dataframe tbody tr th {\n",
       "        vertical-align: top;\n",
       "    }\n",
       "\n",
       "    .dataframe thead th {\n",
       "        text-align: right;\n",
       "    }\n",
       "</style>\n",
       "<table border=\"1\" class=\"dataframe\">\n",
       "  <thead>\n",
       "    <tr style=\"text-align: right;\">\n",
       "      <th></th>\n",
       "      <th>scaled</th>\n",
       "      <th>i</th>\n",
       "      <th>i/N</th>\n",
       "    </tr>\n",
       "  </thead>\n",
       "  <tbody>\n",
       "    <tr>\n",
       "      <th>0</th>\n",
       "      <td>-19.125458</td>\n",
       "      <td>1</td>\n",
       "      <td>0.000041</td>\n",
       "    </tr>\n",
       "    <tr>\n",
       "      <th>1</th>\n",
       "      <td>-11.581281</td>\n",
       "      <td>2</td>\n",
       "      <td>0.000083</td>\n",
       "    </tr>\n",
       "    <tr>\n",
       "      <th>2</th>\n",
       "      <td>-10.669882</td>\n",
       "      <td>3</td>\n",
       "      <td>0.000124</td>\n",
       "    </tr>\n",
       "    <tr>\n",
       "      <th>3</th>\n",
       "      <td>-8.956899</td>\n",
       "      <td>4</td>\n",
       "      <td>0.000166</td>\n",
       "    </tr>\n",
       "    <tr>\n",
       "      <th>4</th>\n",
       "      <td>-8.779553</td>\n",
       "      <td>5</td>\n",
       "      <td>0.000207</td>\n",
       "    </tr>\n",
       "    <tr>\n",
       "      <th>...</th>\n",
       "      <td>...</td>\n",
       "      <td>...</td>\n",
       "      <td>...</td>\n",
       "    </tr>\n",
       "    <tr>\n",
       "      <th>24122</th>\n",
       "      <td>9.295103</td>\n",
       "      <td>24123</td>\n",
       "      <td>0.999834</td>\n",
       "    </tr>\n",
       "    <tr>\n",
       "      <th>24123</th>\n",
       "      <td>9.330453</td>\n",
       "      <td>24124</td>\n",
       "      <td>0.999876</td>\n",
       "    </tr>\n",
       "    <tr>\n",
       "      <th>24124</th>\n",
       "      <td>9.702468</td>\n",
       "      <td>24125</td>\n",
       "      <td>0.999917</td>\n",
       "    </tr>\n",
       "    <tr>\n",
       "      <th>24125</th>\n",
       "      <td>9.830325</td>\n",
       "      <td>24126</td>\n",
       "      <td>0.999959</td>\n",
       "    </tr>\n",
       "    <tr>\n",
       "      <th>24126</th>\n",
       "      <td>12.801092</td>\n",
       "      <td>24127</td>\n",
       "      <td>1.000000</td>\n",
       "    </tr>\n",
       "  </tbody>\n",
       "</table>\n",
       "<p>24127 rows × 3 columns</p>\n",
       "</div>"
      ],
      "text/plain": [
       "          scaled      i       i/N\n",
       "0     -19.125458      1  0.000041\n",
       "1     -11.581281      2  0.000083\n",
       "2     -10.669882      3  0.000124\n",
       "3      -8.956899      4  0.000166\n",
       "4      -8.779553      5  0.000207\n",
       "...          ...    ...       ...\n",
       "24122   9.295103  24123  0.999834\n",
       "24123   9.330453  24124  0.999876\n",
       "24124   9.702468  24125  0.999917\n",
       "24125   9.830325  24126  0.999959\n",
       "24126  12.801092  24127  1.000000\n",
       "\n",
       "[24127 rows x 3 columns]"
      ]
     },
     "execution_count": 9,
     "metadata": {},
     "output_type": "execute_result"
    }
   ],
   "source": [
    "returns_df['i/N'] = returns_df['i']/len(returns_df['i'])\n",
    "returns_df"
   ]
  },
  {
   "cell_type": "markdown",
   "metadata": {},
   "source": [
    "4. Then we use the normal inverse function to get the probability mass of $1/N$"
   ]
  },
  {
   "cell_type": "code",
   "execution_count": 10,
   "metadata": {},
   "outputs": [
    {
     "data": {
      "text/html": [
       "<div>\n",
       "<style scoped>\n",
       "    .dataframe tbody tr th:only-of-type {\n",
       "        vertical-align: middle;\n",
       "    }\n",
       "\n",
       "    .dataframe tbody tr th {\n",
       "        vertical-align: top;\n",
       "    }\n",
       "\n",
       "    .dataframe thead th {\n",
       "        text-align: right;\n",
       "    }\n",
       "</style>\n",
       "<table border=\"1\" class=\"dataframe\">\n",
       "  <thead>\n",
       "    <tr style=\"text-align: right;\">\n",
       "      <th></th>\n",
       "      <th>scaled</th>\n",
       "      <th>i</th>\n",
       "      <th>i/N</th>\n",
       "      <th>Standard</th>\n",
       "    </tr>\n",
       "  </thead>\n",
       "  <tbody>\n",
       "    <tr>\n",
       "      <th>0</th>\n",
       "      <td>-19.125458</td>\n",
       "      <td>1</td>\n",
       "      <td>0.000041</td>\n",
       "      <td>-3.935873</td>\n",
       "    </tr>\n",
       "    <tr>\n",
       "      <th>1</th>\n",
       "      <td>-11.581281</td>\n",
       "      <td>2</td>\n",
       "      <td>0.000083</td>\n",
       "      <td>-3.766142</td>\n",
       "    </tr>\n",
       "    <tr>\n",
       "      <th>2</th>\n",
       "      <td>-10.669882</td>\n",
       "      <td>3</td>\n",
       "      <td>0.000124</td>\n",
       "      <td>-3.663611</td>\n",
       "    </tr>\n",
       "    <tr>\n",
       "      <th>3</th>\n",
       "      <td>-8.956899</td>\n",
       "      <td>4</td>\n",
       "      <td>0.000166</td>\n",
       "      <td>-3.589291</td>\n",
       "    </tr>\n",
       "    <tr>\n",
       "      <th>4</th>\n",
       "      <td>-8.779553</td>\n",
       "      <td>5</td>\n",
       "      <td>0.000207</td>\n",
       "      <td>-3.530692</td>\n",
       "    </tr>\n",
       "    <tr>\n",
       "      <th>...</th>\n",
       "      <td>...</td>\n",
       "      <td>...</td>\n",
       "      <td>...</td>\n",
       "      <td>...</td>\n",
       "    </tr>\n",
       "    <tr>\n",
       "      <th>24122</th>\n",
       "      <td>9.295103</td>\n",
       "      <td>24123</td>\n",
       "      <td>0.999834</td>\n",
       "      <td>3.589291</td>\n",
       "    </tr>\n",
       "    <tr>\n",
       "      <th>24123</th>\n",
       "      <td>9.330453</td>\n",
       "      <td>24124</td>\n",
       "      <td>0.999876</td>\n",
       "      <td>3.663611</td>\n",
       "    </tr>\n",
       "    <tr>\n",
       "      <th>24124</th>\n",
       "      <td>9.702468</td>\n",
       "      <td>24125</td>\n",
       "      <td>0.999917</td>\n",
       "      <td>3.766142</td>\n",
       "    </tr>\n",
       "    <tr>\n",
       "      <th>24125</th>\n",
       "      <td>9.830325</td>\n",
       "      <td>24126</td>\n",
       "      <td>0.999959</td>\n",
       "      <td>3.935873</td>\n",
       "    </tr>\n",
       "    <tr>\n",
       "      <th>24126</th>\n",
       "      <td>12.801092</td>\n",
       "      <td>24127</td>\n",
       "      <td>1.000000</td>\n",
       "      <td>inf</td>\n",
       "    </tr>\n",
       "  </tbody>\n",
       "</table>\n",
       "<p>24127 rows × 4 columns</p>\n",
       "</div>"
      ],
      "text/plain": [
       "          scaled      i       i/N  Standard\n",
       "0     -19.125458      1  0.000041 -3.935873\n",
       "1     -11.581281      2  0.000083 -3.766142\n",
       "2     -10.669882      3  0.000124 -3.663611\n",
       "3      -8.956899      4  0.000166 -3.589291\n",
       "4      -8.779553      5  0.000207 -3.530692\n",
       "...          ...    ...       ...       ...\n",
       "24122   9.295103  24123  0.999834  3.589291\n",
       "24123   9.330453  24124  0.999876  3.663611\n",
       "24124   9.702468  24125  0.999917  3.766142\n",
       "24125   9.830325  24126  0.999959  3.935873\n",
       "24126  12.801092  24127  1.000000       inf\n",
       "\n",
       "[24127 rows x 4 columns]"
      ]
     },
     "execution_count": 10,
     "metadata": {},
     "output_type": "execute_result"
    }
   ],
   "source": [
    "returns_df['Standard'] = norm.ppf(returns_df['i/N'])\n",
    "returns_df"
   ]
  },
  {
   "cell_type": "markdown",
   "metadata": {},
   "source": [
    "5. Finally, we plot the scaled returns (`scaled`) to the Normal percentiles (`Standard`):"
   ]
  },
  {
   "cell_type": "code",
   "execution_count": 11,
   "metadata": {},
   "outputs": [
    {
     "data": {
      "image/png": "[encoded data removed]",
      "text/plain": [
       "<Figure size 640x480 with 1 Axes>"
      ]
     },
     "metadata": {},
     "output_type": "display_data"
    }
   ],
   "source": [
    "plt.scatter(returns_df['Standard'], returns_df['scaled'], s=2)\n",
    "plt.title('Q-Q Plot')\n",
    "plt.xlabel('Standard Normal')\n",
    "plt.ylabel('Historical Standard')\n",
    "plt.show()"
   ]
  },
  {
   "cell_type": "markdown",
   "metadata": {},
   "source": [
    "## 4\n",
    "\n",
    "We plot the histogram for historical (simple) returns and compare to a normal density:"
   ]
  },
  {
   "cell_type": "code",
   "execution_count": 21,
   "metadata": {},
   "outputs": [
    {
     "data": {
      "text/plain": [
       "[<matplotlib.lines.Line2D at 0x16e8486b6d0>]"
      ]
     },
     "execution_count": 21,
     "metadata": {},
     "output_type": "execute_result"
    },
    {
     "data": {
      "image/png": "[encoded data removed]",
      "text/plain": [
       "<Figure size 640x480 with 1 Axes>"
      ]
     },
     "metadata": {},
     "output_type": "display_data"
    }
   ],
   "source": [
    "simple_returns = (sp500_2['Close'] - sp500_2['Close'].shift(1))/ sp500_2['Close'].shift(1)\n",
    "scaled_simples = (simple_returns - simple_returns.mean()) / simple_returns.std()\n",
    "ran = np.linspace(scaled_simples.min(), scaled_simples.max(), 2000)\n",
    "plt.hist(scaled_simples, bins=100, label='S&P500 Simple Returns', density=True)\n",
    "plt.plot(ran, norm.pdf(ran), label='Standard Normal')\n"
   ]
  },
  {
   "cell_type": "markdown",
   "metadata": {},
   "source": [
    "The simple returns distribution appears to have a higher central peak than the standard normal, but with larger tails"
   ]
  }
 ],
 "metadata": {
  "kernelspec": {
   "display_name": "base",
   "language": "python",
   "name": "python3"
  },
  "language_info": {
   "codemirror_mode": {
    "name": "ipython",
    "version": 3
   },
   "file_extension": ".py",
   "mimetype": "text/x-python",
   "name": "python",
   "nbconvert_exporter": "python",
   "pygments_lexer": "ipython3",
   "version": "3.11.7"
  }
 },
 "nbformat": 4,
 "nbformat_minor": 2
}
