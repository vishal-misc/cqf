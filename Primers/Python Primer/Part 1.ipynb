{
 "cells": [
  {
   "cell_type": "markdown",
   "metadata": {},
   "source": [
    " <br><font color = blue size=7>Python Programming - Part I of III</font> "
   ]
  },
  {
   "cell_type": "markdown",
   "metadata": {},
   "source": [
    "***"
   ]
  },
  {
   "cell_type": "markdown",
   "metadata": {},
   "source": [
    "**Primer Syllabus:**\n",
    "\n",
    "Data types and data structures. Input and output.  Flow control and exception handling. Functions and modules. \n",
    "\n",
    "Special libraries:\n",
    "* Introduction to some of the powerful libraries in Python and applications\n",
    "* Scientific algorithms and manipulations (SciPy);\n",
    "* Data structures and numerical computing (NumPy);\n",
    "* Graphics and data visualisation (Matplotlib, seaborn, Pyplot);\n",
    "* Data analysis (Pandas)"
   ]
  },
  {
   "cell_type": "markdown",
   "metadata": {},
   "source": [
    "This course is split into numerous parts to keep the notes more manageable and take up less space.\n"
   ]
  },
  {
   "cell_type": "markdown",
   "metadata": {},
   "source": [
    "# Introduction"
   ]
  },
  {
   "cell_type": "markdown",
   "metadata": {},
   "source": [
    "Those of us old enough (and fortunate) to remember, will recall the BBC comedy sketch series – Monty Python’s Flying Circus. Televised during the late 60s and early 70s, it was conceived, written and performed by the comedy geniuses collectively known as Monty Python (or simply The Pythons). These intellectual masters of humour were predominantly Oxbridge graduates. Fast forward two decades, and we see that this comedy series became the inspiration for the name of a new programming language! \n",
    "\n",
    "<img src=\"./img/monty.jpg\" style=\"width:600px\">\n",
    "\n",
    "\n",
    "Python was initially developed by Guido van Rossum in the 1990s, who was a big fan of Monty Python's Flying Circus - so the name has no connection with any large serpent! Although, it's conception dates back to the late 1980s. https://en.wikipedia.org/wiki/History_of_Python\n",
    "\n",
    "\n",
    "This is a programming course in the use of Python as a scientific computing language for computational finance applications; as part of the Oxford MSc. It is intended for those who are new to  programming in Python. As well as an informal lecture style delivery we will also be doing exercises. We don’t want to be computer scientists or developers. Our goal is solve pricing problems numerically; handle/analyse data and plot data, using Python – simple and enjoyable! Where possible we use as much of the built-in functionality as possible – remember this is not a computer science course. The notes also form part of a textbook which is being prepared for Wiley Finance.\n",
    "\n",
    "Python is a general-purpose dynamic, interpreted (bytecode-compiled) programming language. This means we can type statements into the interpreter and they are executed immediately. In contrast, languages such as Java and C are compiled languages. \n",
    "\n",
    "Python was designed for two reasons - so code written in Python would be easy for humans to read; and to minimize the amount of time required to write code.  \n",
    "\n",
    "There are no type declarations of variables, parameters, functions, or methods in source code. This makes the code short; well structured; readable and flexible, and one loses the compile-time type checking of the source code. The philosophy is “we code what we think”. Python tracks the types of all values at runtime and flags code that does not make sense as it runs. An excellent way to see how Python code works is to run the Python interpreter and type code right into it. \n",
    "\n",
    "Science has traditionally consisted of two major disciplines, theory and experimentation. In the last several decades a third important and exciting component has emerged, i.e. scientific computing. Scientific computing acts as an intersection of the former two areas of science. It is often closely related to theory, but it also has many characteristics in common with experimental work. It is therefore often viewed as a third branch of science.\n",
    "\n",
    "In most areas of science, computation is an invaluable complement to both experiments and theory. Vast majority of both experimental and theoretical research involve some numerical calculations, simulations or computer modelling. In many studies, pure theory alone is insufficient in validating or demonstrating results. On the other hand, experimentation as a sole means of conducting an investigation may lack the scientific rigour necessary to hold up to scrutiny. Experimental work may not be possible or may prove too costly. \n"
   ]
  },
  {
   "cell_type": "markdown",
   "metadata": {},
   "source": [
    "***"
   ]
  },
  {
   "cell_type": "markdown",
   "metadata": {},
   "source": [
    "The need for mathematical modelling has never been greater. Most problems based on real life are often too complex and cannot be solved using analytical techniques alone – without computational methods and scientific computing techniques we would be greatly limited to the types of modelling  possible. In finance, unless the pricing problem is fairly basic or ideal, it is highly unlikely that a closed form solution is available.\n"
   ]
  },
  {
   "cell_type": "markdown",
   "metadata": {},
   "source": [
    "**Why Python?**\n",
    "\n",
    "\n",
    "The world is driven by technology with the last decade witnessing the greatest innovation in its advancement. Central to the success of this advancement has been programming languages such as C++, Python and R. This course focuses on Python and its application to finance, health and science.\n",
    "\n",
    "This is an obvious initial point to address when introducing Python. Python is rapidly becoming the standard in scientific computing, receiving much excitement about the application of Python to mathematical finance (although its presence is being felt in many sectors); its appeal continues to grow in both academia and industry. It is also the fastest growing langauge.\n",
    "\n",
    "Its features include:\n",
    "\n",
    "\n",
    "* (very) Simple to pick up language – easy to maintain  \n",
    "* Python offers concise and readable code\n",
    "* open-source and free language\n",
    "* growing amount of add-on modules\n",
    "* multi-platform (cross platform compatible) - available on Windows, Mac OS, Linux and almost all operating systems (Android also) used by Google, YouTube, Instagram, NASA, CERN, Disney, Dropbox. . .\n",
    "* particularly easy to interface with C++\n",
    "* powerful language  can be used extensively to solve problems in finance, economics and healthcare\n",
    "* Broadly adopted: Popularly used Machine Learning and Data Science\n"
   ]
  },
  {
   "cell_type": "markdown",
   "metadata": {},
   "source": [
    "**What is open-source?**\n",
    "* The programme must be freely distributed\n",
    "* Source code must be included\n",
    "* Anyone must be allowed to modify the source code – modification/customisation is in fact encouraged and further distribution is allowed\n",
    "* Certain licensing requirements need to be fulfilled\n",
    "\n",
    "There are other requirements that need to be satisfied for open-source approval.\n"
   ]
  },
  {
   "cell_type": "markdown",
   "metadata": {},
   "source": [
    "**Where does Python programing fit into your life?**\n",
    "\n",
    "* 'Super small' so shows up on embedded devices\n",
    "* Several libraries for building great web apps\n",
    "* Python popular at Disney and Lucas Film\n",
    "* Large community of users, easy to find help and documentation\n",
    "* Has a strong position in scientific computing. \n",
    "* Heavily used in science (CERN and NASA) with dedicated libraries to specific areas\n",
    "* Due to Machine Learning its popularity has taken off like a rocket\n",
    "* Python is an interpreted language (as opposed to compiled like C/ C++/FORTRAN)\n",
    "\n",
    "\n",
    "**Python has a library for almost anything**\n",
    "\n",
    "<img src=\"./img/Bodleian.jpg\" style=\"width:400px\">\n",
    "\n",
    "Python's strongest point is (probably) its guagillions of wonderfully maintained (and ever-growing) libraries. In programming, a library is a big bundle of code snippets (or functions) that someone else has written and made freely available for other people to download and modify (open source culture again!). A single library will usually be designed to help people write code for specific applications or purposes. For example:\n",
    "\n",
    "* SciPy is a library for general mathematical purposes\n",
    "* Pandas is a library for data science\n",
    "* Numpy is a library for numerical computing\n",
    "* NLTK is a library for natural language processing\n",
    "* Tensorflow is a machine learning (ML) library released by Google\n",
    "* Epipy is a library for epidemiology for analyzing and visualizing epidemiology data\n",
    "* Matplotlib is a library for graphics (static, animated, interactive)\n",
    "* Mesa is a library for agent based modelling\n",
    "\n",
    "Using libraries rather than writing your own code from scratch is always a smart move - you'll save time, and because open source code will have been reviewed and checked by hundreds and thousands of people, code from a library is far less likely to contain bugs than something you may write.\n",
    "\n",
    "\n",
    "**Why Python for Data Science?**\n",
    "\n",
    "Data analysis has become one of the fastest developing areas in IT. If you had access to a large dataset, would you be able to find the answers to important questions? We are surrounded and continuously bombarded with data. Data Science has emerged as a highly important academic and industrial based discipline which continues to expand rapidly. Combining both computational and statistical methods for data-driven problem solving, its applications are wide ranging to include finance, health, journalism and politics. This rapidly expanding area includes machine learning, deep learning, large-scale data analysis. So why has Python become so popular in this field?\n",
    "\n",
    "* Python is an interpreted language (as opposed to compiled e.g. C/ C++/FORTRAN)\n",
    "* Programmers find it particularly attractive\n",
    "* Dynamic (i.e. single line of code will run in the Python interpreter)\n",
    "* Used as glue language, existing legacy scientific computing software (written in C/C++/FORTRAN) can be combined as software libraries in python. \n",
    "* As listed above, the availability of many libraries\n",
    "* Object-oriented (structured around objects that contain variables and methods, where methods act on variables)\n",
    "\n",
    "**Python is object oriented**\n",
    "\n",
    "Object-oriented programming, or OOP for short, is a way of structuring programs so that groups of properties and behaviours are bundled into things called 'objects'.\n",
    "\n",
    "We'll learn more about why this is useful later.\n",
    "\n",
    "**Why Python for Machine Learning?**\n",
    "Artificial Intelligence (AI) and Machine Learning (AI) are terms from computer science that are mentioned extensively (whether in passing or at a deeper/technical level) and have become subjects in their own right. While AI has been referred to for a few decades now, ML is relatively new. There is also some confusion as to the difference between the two, and if the names can be used interchangeably. Whilst this discussion can be lengthy, a few key differences can be outlined. \n",
    "\n",
    "ML is a branch of AI. AI seeks to simulate natural intelligence to solve complex problems, while the goal of ML is to learn from data on a particular task to optimise the performance of the machine. AI is about decision making, whereas ML allows a system to learn new things by being trained on large amounts of data.\n",
    "\n",
    "In short ML is the process of teaching a computer system how to make accurate predictions when fed data. It is the technique whereby machines can tackle tasks that up until now have been carried out by humans. Hence it is clear that the key being lots and lots of data!\n",
    "\n",
    "So why Python? \n",
    "* The code is understandable by humans, which makes it easier to build models for ML\n",
    "* Extensive selection of frameworks and libraries \n",
    "\n",
    ">* Keras, TensorFlow, Scikit-learn for machine learning\n",
    ">* NumPy for high-performance scientific computing and data analysis\n",
    ">* SciPy for advanced scientific computing\n",
    ">* Pandas for general-purpose data analysis\n",
    ">* Seaborn for (fancy) data visualization\n",
    "* Platform independence and portability (Windows, IOS, Linux)\n",
    "* Great community and popularity\n"
   ]
  },
  {
   "cell_type": "markdown",
   "metadata": {},
   "source": [
    "We mentioned above that **Python is an interpreted language**. If you're new to programming, you probably have no idea what this means. Let's take a quick(ish) detour through the history of computing.\n",
    "\n",
    "## What is programming?\n",
    "\n",
    "What do we actually mean when we talk about coding or programming? This sounds like an obvious question, but it's worth discussing.\n",
    "\n",
    "When we write code (in any language from Python to C++) we're writing instructions that we want our computer to execute; those instructions could be as simple as 'add these two numbers and show me the result' or as complex as 'navigate this driverless car through rush hour traffic.'\n",
    "\n",
    "The CPU (central processing unit, or 'brain') in any computer can only understand and execute commands written in machine code, which looks something like this:"
   ]
  },
  {
   "cell_type": "markdown",
   "metadata": {},
   "source": [
    "<img src=\"./img/machine.png\" style=\"width:450px\">"
   ]
  },
  {
   "cell_type": "markdown",
   "metadata": {},
   "source": [
    "For humans, machine code is:\n",
    "\n",
    "* Very error prone.\n",
    "* A nightmare to debug: imagine trying to spot a rogue 1 (Star Wars reference entirely unintentional but I'll take it) in a string of thousands of numbers and letters so you can fix your mistake.\n",
    "* Inefficient: it takes many lines of code to write even the simplest instructions.\n",
    "\n",
    "Luckily, nowadays we have at our disposal a huge range of programming languages from JavaScipt to Python to C++. All of these are much more similar to the English language, have their own vocabulary (commands that can be given to the computer) and syntax (rules for combining commands to write complex instructions) and feel far more intuitive than machine code.\n",
    "\n",
    "But if computers only understand machine code, how is this possible?"
   ]
  },
  {
   "cell_type": "markdown",
   "metadata": {},
   "source": [
    "<img src=\"./img/grace.jpg\" style=\"width:600px\">"
   ]
  },
  {
   "cell_type": "markdown",
   "metadata": {},
   "source": [
    "In the 1950s a US Navy Rear Admiral named Grace Hopper was well aware of this problem. She built the first compiler, a middle-man piece of software that translated instructions written in a human-readable programming language called A-0 into computer-readable machine code.\n",
    "\n",
    "All the programming languages you might have heard of including FORTRAN, C++, Python, JavaScript, Swift, R and Matlab only exist today because of Hopper's innovation.\n",
    "\n",
    "These modern languages are compiled or interpreted into a format that can be directly executed by a CPU. The main difference between a compiled language (like C++) and an interpreted language (like Python) lies in the result of the compilation or interpretation process.\n",
    "\n",
    "Code written in an interpreted language is executed by an interpreter, which reads the source code and translates it on the fly into machine code, and gives us the desired result or output of the code- this could be a number, some text, or movement in a robotic arm. This means we can type statements into the interpreter and they are executed immediately, giving us near-instant results. The source code has to be re-interpreted each time the code is executed.\n",
    "\n",
    "Lines of code written in compiled languages are converted into machine code by a compiler, to produce an executable file. To get the desired results of the code, this executable file then needs to be run. Most of the software we use on a daily basis is delivered as compiled binaries.\n",
    "\n",
    "A program should not be confused with an *algorithm*. An algorithm is a description or sequence of steps required to  solve a problem. It is independent of any programming language or syntax,  and amounts to pseudo-code.  The steps defined in an algorithm are translated to the required language syntax, so it is the precursor to writing a program.  It means, understanding the problem we are modelling and  analysing it.  Often it will also incorporate a numerical scheme. \n"
   ]
  },
  {
   "cell_type": "markdown",
   "metadata": {},
   "source": [
    "***"
   ]
  },
  {
   "cell_type": "markdown",
   "metadata": {},
   "source": [
    "**Interpreted** versus Compiled 1 \n",
    "\n",
    "Programs are indirectly executed by an interpreter program which reads the source code and translates it while in motion, into a series of computations and system calls. The source has to be re-interpreted (and the interpreter present) each time the code is executed.\n",
    "* Slower than compiled, with limited access to the underlying operating system and hardware\n",
    "* Easier to program\n",
    "* Less strict on coding errors\n"
   ]
  },
  {
   "cell_type": "markdown",
   "metadata": {},
   "source": [
    "Interpreted versus **Compiled** 2\n",
    "\n",
    "Most conventional kind of language is compiled. Programs are converted into machine code by a compiler and then directly executed. This executable file can be run without the need to refer back to the source code.\n",
    "* Give excellent performance with limited access to the underlying operating system and hardware\n",
    "*\tCan be difficult to program in\n",
    "*\tMost of the software we use is delivered as compiled binaries, from software which the use doesn’t see\n"
   ]
  },
  {
   "cell_type": "markdown",
   "metadata": {},
   "source": [
    "<img src=\"./img/Python link.png\" style=\"width:400px\">"
   ]
  },
  {
   "cell_type": "markdown",
   "metadata": {},
   "source": [
    "## What sort of language is Python?\n",
    "<img src=\"./img/scale.png\" style=\"width:600px\">"
   ]
  },
  {
   "cell_type": "markdown",
   "metadata": {},
   "source": [
    "### C++ vs. Python\n",
    "C++ is very fast with very optimized compilers. For intense and heavy computations, it’s hard to outperform C++. In fact it's widely agreed in banking that \"C++ is used in situations where speed is everything\". The language retains its status as being *sexy*! More recently, some very optimized scientific libraries have been developed for these languages, e.g. BLAS (Basic Linear Algebra Subprograms). \n",
    "There are however plenty of drawbacks! It is a very hard langauge for non-computer scientists. It's difficult to use and not easy to learn - being non-interactive during development makes its usage quite painful. Its syntax can also be verbose. Manual memory management (via C) can also be tricky.\n",
    "\n",
    "Python may not be up there with C++ when it comes to speed, however, it makes up for this limitation in versatility."
   ]
  },
  {
   "cell_type": "markdown",
   "metadata": {
    "collapsed": true
   },
   "source": [
    "### Distributions of Python\n",
    "\n",
    "Python is a language, then there exist different distributions of Python (Python official, Anaconda Python, Enthought Canopy, pythonxy . . . ). Each distribution provides specific tools (Editors, packages pre-installed, support for a given platform . . . ). \n"
   ]
  },
  {
   "cell_type": "markdown",
   "metadata": {},
   "source": [
    "### Getting started\n",
    "\n",
    "On Linux and Mac OS, Python comes pre-installed with the operating system. However, many useful packages (e.g. SciPy) must be installed by hand. For its easy interface we will use Anaconda. This is an open source data science platform by CONTINUUM that has many tools; these include a Python distribution, a package manager conda, a way to manage environment and many preinstalled libraries and packages (e.g. NumPy, SciPy and Jupyter notebooks). Use of Anaconda greatly facilitates the learning process and avoids many issues new programmers to Python face. More importantly it is excellent for teaching in the classroom. To download simply google Python Anaconda. You will be taken to https://www.anaconda.com/download/\n"
   ]
  },
  {
   "cell_type": "markdown",
   "metadata": {},
   "source": [
    "<img src=\"./img/distribution.png\" style=\"width:800px\">"
   ]
  },
  {
   "cell_type": "markdown",
   "metadata": {},
   "source": [
    "### How to know if your PC/laptop is a 32 or 64-bit system?\n",
    "Linux uname -a and if you see x64 then 64-bit else 32-bit\n",
    "\n",
    "Mac uname -a also\n",
    "\n",
    "Windows (0ld) Click Start, right-click My Computer, and then click Properties if you see 64-bit it’s a 64-bit system\n",
    "\n",
    "Windows 10 In search, type device specifications then System Specifications. "
   ]
  },
  {
   "cell_type": "markdown",
   "metadata": {},
   "source": [
    "\n",
    "Choose your operating system from Windows, mac or Linux."
   ]
  },
  {
   "cell_type": "markdown",
   "metadata": {},
   "source": [
    "<img src=\"./img/install.png\" style=\"width:100x\">"
   ]
  },
  {
   "cell_type": "markdown",
   "metadata": {},
   "source": [
    "### Python 2 or Python 3\n",
    "\n",
    "* Python 2.x is legacy code\n",
    "* Two Python versions are in current use: Python 2 and Python 3.\n",
    "* Python 3 is not backward compatible with Python 2.\n",
    "* The largest community is still using Python 2 since there are still several packages incompatible with Python 3.\n",
    "\n",
    "We will however be using a version of Python 3\n",
    "\n",
    "### Anaconda – What is the jupyter notebook?\n",
    "\n",
    "We've downloaded Python 3.8. What does that actually mean? What exactly have we just installed on our machines?\n",
    "\n",
    "When we download and install Python 3.8, we download the Python 3.8 interpreter - that is, a program that can take lines of code written in Python and translate them down and show us the results. That's great! But we need somewhere to feed lines of Python code to that interpreter, or in other words we need somewhere to write, test, and run our code and view the results or output. That's what an IDE or Interactive Development Environment is for.\n",
    "An IDE is anywhere that you can write and run code, and see the results. There are lots of different IDEs available- some can be used to run code in many different programming languages (like Microsoft Visual Studio Code) and some can only handle one language (like pyCharm).\n",
    "***\n",
    "\n",
    "The Jupyter Notebook (previously known as IPython) is a nice web application that allows you to create and share documents that contain live code, equations, visualizations and explanatory text. Uses include: data cleaning and transformation, numerical simulation, statistical modelling, machine learning and much, much more. Notebooks have the .ipynb extension, although it is possible to save as a .py file or other formats.\n",
    "There are a number of advantages of using a Jupyter notebook. These include\n",
    "* interactive\n",
    "* easy to document and share results\n",
    "* can access multiple kernels (languages - e.g.R)\n",
    "\n",
    "Along the toolbar at the top you will see a tab labelled **kernel**. A notebook kernel is a “computational engine” that executes the code contained in a Notebook. The ipython kernel, executes python code, although Kernels for many other languages exist (e.g. R). Upon launching a Notebook file, the associated kernel is automatically launched. \n",
    "\n",
    "It is much faster to write a working Python program than a C program. The advantage of Python being a cross platform language means the same program will work immediately on almost any computer system - even on android phones!\n",
    "\n",
    "Many researchers (and institutions) have become reliant on Jupyter notebooks to explain their results. Readers can reproduce those results and modify to create different output in order to facilitate the learning process.\n",
    "\n",
    "For Python it is recommended to use Google Chrome and avoid Internet Explorer (some key features are disabled in Internet Explorer). However with the latter if pictures cannot be viewed, then try the following:\n",
    "\n",
    "Normally in Internet Explorer, under Internet Options, there is an Advanced tab; under multimedia ensure \"Show pictures\" is enabled. \n",
    "\n",
    "To get started visit the following link: \n",
    "https://docs.anaconda.com/anaconda/user-guide/getting-started/"
   ]
  },
  {
   "cell_type": "markdown",
   "metadata": {},
   "source": [
    "## Python script\n",
    "Python script is a set of instructions in a text file, written in the Python language, that run in order and carry out a series of commands.\n"
   ]
  },
  {
   "cell_type": "markdown",
   "metadata": {},
   "source": [
    "Begin by opening the Anaconda prompt from the start menu - this gives some technical bumf including Python version and Anaconda distribution. Note the >>> prompt. Ctrl Z or exit() both close this.  \n",
    "<img src=\"./img/prompt.png\" style=\"width:450x800px\">"
   ]
  },
  {
   "cell_type": "markdown",
   "metadata": {},
   "source": [
    "<img src=\"./img/navigator.png\" style=\"width:900px\">\n",
    "***"
   ]
  },
  {
   "cell_type": "markdown",
   "metadata": {},
   "source": [
    "If you have a Mac, then at this point click on jupyterlab\n",
    "<img src=\"./img/jupyterlab.png\" style=\"width:300px\">\n",
    "***\n",
    "Under the third option (Other) will be an icon labelled **terminal**. Opening that will allow you to execute the command given below"
   ]
  },
  {
   "cell_type": "markdown",
   "metadata": {},
   "source": [
    "Conda is a (open source) package manager system allowing interaction with Ananconda. It runs, installs and updates packages. Always useful to use conda before an application to check for updates, using the command **conda update python**"
   ]
  },
  {
   "cell_type": "markdown",
   "metadata": {},
   "source": [
    "Typing **jupyter notebook** in Anaconda prompt opens up the Jupyter notebook. Do not close this otherwise connection to the server will be lost. \n",
    "\n",
    "After you run jupyter notebook your browser will open the jupyter home directory. If you are creating a new notebook, then on the right hand top corner click \"new\" and select \"Python 3\". This will open you the new jupyter notebook. After that press 'H' on your keyboard to see the list of commands. Create cell and type into it\n",
    "***\n",
    "If you have a notebook stored in any location on your computer, click on \"upload\" and add to the directory of files."
   ]
  },
  {
   "cell_type": "markdown",
   "metadata": {},
   "source": [
    "# Using Jupyter - getting started"
   ]
  },
  {
   "cell_type": "markdown",
   "metadata": {},
   "source": [
    "##  Introduction"
   ]
  },
  {
   "cell_type": "markdown",
   "metadata": {},
   "source": [
    "**Launching** Jupyter is usually launched from the command line using the command **jupyter notebook**. It runs in your web browser, but doesn't require an internet connection to work - remember, Python and the IDE are both running locally in your machine, your browser is just a convenient user interface.\n",
    "\n",
    "A new notebook can be launched by selecting New, followed by Python 3.\n",
    "<img src=\"./img/python 3.png\" style=\"width:300px\">\n",
    "***\n",
    "**Cells** Cells are the building blocks of Jupyter notebooks, and can contain different types of content from code, to markdown (nicely formatted text, like this cell) to LaTeX (for writing mathematical formulae) and embedded images. During this seminar we'll be using mostly code cells (to write and run our code) and markdown cells.\n",
    "\n",
    "New cells are inserted by selecting Insert, followed by Insert Cell Above or Insert Cell Below. The dropdown menu allows us to switch between Markdown cells and Code cells.\n",
    "\n",
    "**Running cells** Cells run one after the other. You can run cells by pressing Shift + Enter. The output from a code cell (if there is any) will appear below the cell.\n",
    "\n",
    "**Stopping cells** running If you'd like to stop a cell running (maybe you've accidentally written some code that runs in an infinite loop) you can use the 'stop' button on the toolbar. Or go to the kernel drop-down menu and click 'Restart'; you may lose recently defined variables. \n",
    "\n",
    "**Saving your work** Jupyter will autosave your work once every couple of minutes, but if you've just completed a very critical piece of code, it's best to save manually as well.\n",
    "\n",
    "**Shortcuts** Jupyter has plenty of shortcuts to save time:\n",
    "\n",
    "<mark>Shift + Enter</mark>: Run current cell and take cursor to the next one\n",
    "\n",
    "<mark>Ctrl + Enter</mark>: Run current cell\n",
    "\n",
    "<mark>Alt + Enter</mark>: Run current cell and insert new cell below\n",
    "\n",
    "<mark>Esc+M</mark>: Convert current cell to markdown\n",
    "\n",
    "<mark>Esc+Y</mark>: Convert current cell to code\n",
    "\n",
    "<mark>Esc + A</mark>: Insert new cell above current cell\n",
    "\n",
    "<mark>Esc + B</mark>: Insert new cell below current cell\n",
    "\n",
    "<mark>Esc + H</mark>: Show shortcuts menu"
   ]
  },
  {
   "cell_type": "markdown",
   "metadata": {},
   "source": [
    "Notebooks have 2 modes:\n",
    "1. command mode - the cell is blue (Esc key). Adding/deleting cells; using shortcuts\n",
    "2. edit mode - the cell is green (Enter key).\n",
    "First time you open up a notebook worth taking the user interface tour under **Help**\n",
    "Using help(object) gives information on object. So e.g. if we want help on the function print we type help(print) in the cell below and run"
   ]
  },
  {
   "cell_type": "markdown",
   "metadata": {},
   "source": [
    "By double clicking on a cell, you can view its content, i.e. the codde for Python or that of Markdown."
   ]
  },
  {
   "cell_type": "markdown",
   "metadata": {},
   "source": [
    "## nbextensions"
   ]
  },
  {
   "cell_type": "markdown",
   "metadata": {},
   "source": [
    "Jupyter Notebook extensions or nbextensions have become an extremely popular way to extend the basic functionality of the IPython notebook ecosystem. They are simple add-ons which make your environment resemble the toolbars of a MS Office environment. They not only provide greater usage, flexibility and control;  more importantly they provide users with control to produce visually stunning notebooks. Increasing numbers of academics are now using Jupyter notebooks to produce literature with a view to sharing. In addition they aid pedagogy as they are excellent teaching tools, and the visual effects enhance the learning process.\n",
    "\n",
    "The basic features installed are very limited. So we start by ensuring that nbextensions are available. A preferred method is to use conda"
   ]
  },
  {
   "cell_type": "markdown",
   "metadata": {},
   "source": [
    "**conda install -c conda-forge jupyter_contrib_nbextensions**\n",
    "\n",
    "The above is on the basis that the default directory is C. <br> After the installation is complete, exit the Anaconda prompt and relaunch Jupyter notebook.<br> You will now see the nbextensions tab, which looks frightfully nice!\n",
    "<img src=\"./img/nbextensions.jpg\" style=\"width:1050px\">\n",
    "<br> And this compared to the limited view you may currently have."
   ]
  },
  {
   "cell_type": "markdown",
   "metadata": {},
   "source": [
    "If the above doesn't work you can try the following three steps\n",
    "* **pip install jupyter_contrib_nbextensions**\n",
    "* **jupyter contrib nbextension install --user**\n",
    "* **jupyter nbextension enable varInspector/main**"
   ]
  },
  {
   "cell_type": "markdown",
   "metadata": {},
   "source": [
    "It is worth going through the list and reading the description for each extension. By clicking on the name "
   ]
  },
  {
   "cell_type": "markdown",
   "metadata": {},
   "source": [
    "## Running code"
   ]
  },
  {
   "cell_type": "markdown",
   "metadata": {},
   "source": [
    "**Line Numbers:** To switch on (or off) line number display, use **Esc L** when in command mode"
   ]
  },
  {
   "cell_type": "code",
   "execution_count": 1,
   "metadata": {
    "scrolled": false
   },
   "outputs": [
    {
     "name": "stdout",
     "output_type": "stream",
     "text": [
      "Help on built-in function print in module builtins:\n",
      "\n",
      "print(...)\n",
      "    print(value, ..., sep=' ', end='\\n', file=sys.stdout, flush=False)\n",
      "    \n",
      "    Prints the values to a stream, or to sys.stdout by default.\n",
      "    Optional keyword arguments:\n",
      "    file:  a file-like object (stream); defaults to the current sys.stdout.\n",
      "    sep:   string inserted between values, default a space.\n",
      "    end:   string appended after the last value, default a newline.\n",
      "    flush: whether to forcibly flush the stream.\n",
      "\n"
     ]
    }
   ],
   "source": [
    "help(print)"
   ]
  },
  {
   "cell_type": "markdown",
   "metadata": {},
   "source": [
    "**Getting help - Why it's okay to Google stuff**\n",
    "\n",
    "As mathematicians we certainly don't bother remembering dozens of results from differentiation and integration. As long as we can recall the standard important ones; there are tables of derivatives and integrals we can consult. Similarly no one has the time to memorise every single Python function they'll ever need to use (and even if they did, it would be a very inefficient use of their time). Beyond a very small handful of functions, you're not expected to memorise the commands we cover in this course, and you should never hesitate to look for help online when you get stuck.Standard sources are\n",
    "\n",
    "* Stackoverflow: https://stackoverflow.com/\n",
    "* Python documentation: https://docs.python.org/3/\n",
    "* Google (obviously)\n",
    "\n",
    "and many more."
   ]
  },
  {
   "cell_type": "markdown",
   "metadata": {},
   "source": [
    "A complete list of Python keywords is available in the **keyword** module:"
   ]
  },
  {
   "cell_type": "code",
   "execution_count": 2,
   "metadata": {
    "collapsed": true
   },
   "outputs": [],
   "source": [
    "import keyword # tests for Python keywords"
   ]
  },
  {
   "cell_type": "markdown",
   "metadata": {},
   "source": [
    "Let's see the list below, some of which we will be using later"
   ]
  },
  {
   "cell_type": "code",
   "execution_count": 3,
   "metadata": {},
   "outputs": [
    {
     "data": {
      "text/plain": [
       "['False',\n",
       " 'None',\n",
       " 'True',\n",
       " 'and',\n",
       " 'as',\n",
       " 'assert',\n",
       " 'break',\n",
       " 'class',\n",
       " 'continue',\n",
       " 'def',\n",
       " 'del',\n",
       " 'elif',\n",
       " 'else',\n",
       " 'except',\n",
       " 'finally',\n",
       " 'for',\n",
       " 'from',\n",
       " 'global',\n",
       " 'if',\n",
       " 'import',\n",
       " 'in',\n",
       " 'is',\n",
       " 'lambda',\n",
       " 'nonlocal',\n",
       " 'not',\n",
       " 'or',\n",
       " 'pass',\n",
       " 'raise',\n",
       " 'return',\n",
       " 'try',\n",
       " 'while',\n",
       " 'with',\n",
       " 'yield']"
      ]
     },
     "execution_count": 3,
     "metadata": {},
     "output_type": "execute_result"
    }
   ],
   "source": [
    "keyword.kwlist"
   ]
  },
  {
   "cell_type": "markdown",
   "metadata": {},
   "source": [
    "## Builtin Documentation\n",
    "Jupyter notebooks are being updated with amazing speed, which means continuous inclusion of very helpful functions. One of the most useful of this platform is to shorten the learning curve by offering efficient help/documentation search. The following are the various ways to access *doc string*.\n",
    "\n",
    "* accessing documentation with ``?``<br><br>\n",
    "* accessing source code with ``??``<br><br>\n",
    "* exploring modules with Tab-Completion"
   ]
  },
  {
   "cell_type": "markdown",
   "metadata": {},
   "source": [
    "## Importing Modules/Libraries\n",
    "A major feature of Python as an ecosystem, compared to just being a programming language, is the availability of a large number of libraries and tools. These libraries and tools generally have to be imported when needed (e.g. a plotting library) or have to be started as a separate system process (e.g., a Python development environment). Those of you familiar with (say) Matlab and R will know that they come with a pre-bundled set of modules of various aspects of scientific computing. Importing means making a library available to the current namespace and the current Python interpreter process. The reserved word import is used; just as in C++ where the prefix #include is the syntax for importing a library.  \n",
    "\n",
    "Python itself already comes with a large set of libraries that enhance the basic interpreter in different directions. For example, basic mathematical calculations; I/O; string manipulation, can be done without any importing, while operations requiring (say) more complex mathematical functions need to be imported through the math library. When a Python program starts it only has access to a basic functions and classes.\n",
    "\n",
    "   (\"int\", \"dict\", \"len\", \"sum\", \"range\", ...)\n",
    "“Modules” contain additional functionality. Use the command “import” to tell Python to load a module, e.g."
   ]
  },
  {
   "cell_type": "code",
   "execution_count": 4,
   "metadata": {
    "collapsed": true
   },
   "outputs": [],
   "source": [
    "import matplotlib # graphics library\n",
    "import scipy # scientific python \n",
    "import nltk  # for natural language processing \n",
    "import numpy # numerical library and manipulating arrays - flagship\n",
    "import pandas # panel data - series and dataframes - also flagship"
   ]
  },
  {
   "cell_type": "markdown",
   "metadata": {},
   "source": [
    "Let's see what modules are now in the directory"
   ]
  },
  {
   "cell_type": "code",
   "execution_count": 5,
   "metadata": {},
   "outputs": [
    {
     "data": {
      "text/plain": [
       "['In',\n",
       " 'NamespaceMagics',\n",
       " 'Out',\n",
       " '_',\n",
       " '_3',\n",
       " '_Jupyter',\n",
       " '__',\n",
       " '___',\n",
       " '__builtin__',\n",
       " '__builtins__',\n",
       " '__doc__',\n",
       " '__loader__',\n",
       " '__name__',\n",
       " '__package__',\n",
       " '__spec__',\n",
       " '_dh',\n",
       " '_getshapeof',\n",
       " '_getsizeof',\n",
       " '_i',\n",
       " '_i1',\n",
       " '_i2',\n",
       " '_i3',\n",
       " '_i4',\n",
       " '_i5',\n",
       " '_ih',\n",
       " '_ii',\n",
       " '_iii',\n",
       " '_nms',\n",
       " '_oh',\n",
       " 'exit',\n",
       " 'get_ipython',\n",
       " 'getsizeof',\n",
       " 'json',\n",
       " 'keyword',\n",
       " 'matplotlib',\n",
       " 'nltk',\n",
       " 'np',\n",
       " 'numpy',\n",
       " 'pandas',\n",
       " 'quit',\n",
       " 'scipy',\n",
       " 'var_dic_list',\n",
       " 'yapf_reformat']"
      ]
     },
     "execution_count": 5,
     "metadata": {},
     "output_type": "execute_result"
    }
   ],
   "source": [
    "dir()"
   ]
  },
  {
   "cell_type": "markdown",
   "metadata": {},
   "source": [
    "After using any of the modules, if we have no further use, the reserved word <span style=\"color:green\">del</span> can be used to remove an imported module. Let's remove nltk and check the directory"
   ]
  },
  {
   "cell_type": "code",
   "execution_count": 6,
   "metadata": {},
   "outputs": [
    {
     "data": {
      "text/plain": [
       "['In',\n",
       " 'NamespaceMagics',\n",
       " 'Out',\n",
       " '_',\n",
       " '_3',\n",
       " '_5',\n",
       " '_Jupyter',\n",
       " '__',\n",
       " '___',\n",
       " '__builtin__',\n",
       " '__builtins__',\n",
       " '__doc__',\n",
       " '__loader__',\n",
       " '__name__',\n",
       " '__package__',\n",
       " '__spec__',\n",
       " '_dh',\n",
       " '_getshapeof',\n",
       " '_getsizeof',\n",
       " '_i',\n",
       " '_i1',\n",
       " '_i2',\n",
       " '_i3',\n",
       " '_i4',\n",
       " '_i5',\n",
       " '_i6',\n",
       " '_ih',\n",
       " '_ii',\n",
       " '_iii',\n",
       " '_nms',\n",
       " '_oh',\n",
       " 'exit',\n",
       " 'get_ipython',\n",
       " 'getsizeof',\n",
       " 'json',\n",
       " 'keyword',\n",
       " 'matplotlib',\n",
       " 'np',\n",
       " 'numpy',\n",
       " 'pandas',\n",
       " 'quit',\n",
       " 'scipy',\n",
       " 'var_dic_list',\n",
       " 'yapf_reformat']"
      ]
     },
     "execution_count": 6,
     "metadata": {},
     "output_type": "execute_result"
    }
   ],
   "source": [
    "del nltk\n",
    "dir()"
   ]
  },
  {
   "cell_type": "markdown",
   "metadata": {},
   "source": [
    "This reserved word can also be used to delete imported functions. "
   ]
  },
  {
   "cell_type": "markdown",
   "metadata": {},
   "source": [
    "Use of object notation is encouraged. The method gives the programmer more control and the code is more readable. numpy is used as an example. We will import numpy and henceforth use the object np. So the syntax is "
   ]
  },
  {
   "cell_type": "code",
   "execution_count": 7,
   "metadata": {
    "collapsed": true
   },
   "outputs": [],
   "source": [
    "import numpy as np"
   ]
  },
  {
   "cell_type": "markdown",
   "metadata": {},
   "source": [
    "Each time in code mode you type np. you are offered the auto-complete option"
   ]
  },
  {
   "cell_type": "code",
   "execution_count": 8,
   "metadata": {},
   "outputs": [
    {
     "data": {
      "text/plain": [
       "'1.18.5'"
      ]
     },
     "execution_count": 8,
     "metadata": {},
     "output_type": "execute_result"
    }
   ],
   "source": [
    "np.__version__ # gives the current version. Note that these are double underscores pre and proceding version"
   ]
  },
  {
   "cell_type": "markdown",
   "metadata": {},
   "source": [
    "For finance based work there are two useful sources (more on this later) - \n",
    "\n",
    "https://uk.finance.yahoo.com/\n",
    "\n",
    "https://www.alphavantage.co/"
   ]
  },
  {
   "cell_type": "markdown",
   "metadata": {},
   "source": [
    "## Magics\n",
    "Notebooks have built-in special commands called **magics**. These commands are preceded by % or %%.\n",
    "\n",
    "%: all command arguments come from that same line. These are called **line magics**.\n",
    "\n",
    "%%: the entire cell will be used as the command arguments, hence called **cell magics**.\n",
    "\n",
    "Let's list these available magics\n"
   ]
  },
  {
   "cell_type": "code",
   "execution_count": 9,
   "metadata": {},
   "outputs": [
    {
     "data": {
      "application/json": {
       "cell": {
        "!": "OSMagics",
        "HTML": "Other",
        "SVG": "Other",
        "bash": "Other",
        "capture": "ExecutionMagics",
        "cmd": "Other",
        "debug": "ExecutionMagics",
        "file": "Other",
        "html": "DisplayMagics",
        "javascript": "DisplayMagics",
        "js": "DisplayMagics",
        "latex": "DisplayMagics",
        "markdown": "DisplayMagics",
        "perl": "Other",
        "prun": "ExecutionMagics",
        "pypy": "Other",
        "python": "Other",
        "python2": "Other",
        "python3": "Other",
        "ruby": "Other",
        "script": "ScriptMagics",
        "sh": "Other",
        "svg": "DisplayMagics",
        "sx": "OSMagics",
        "system": "OSMagics",
        "time": "ExecutionMagics",
        "timeit": "ExecutionMagics",
        "writefile": "OSMagics"
       },
       "line": {
        "alias": "OSMagics",
        "alias_magic": "BasicMagics",
        "autoawait": "AsyncMagics",
        "autocall": "AutoMagics",
        "automagic": "AutoMagics",
        "autosave": "KernelMagics",
        "bookmark": "OSMagics",
        "cd": "OSMagics",
        "clear": "KernelMagics",
        "cls": "KernelMagics",
        "colors": "BasicMagics",
        "conda": "PackagingMagics",
        "config": "ConfigMagics",
        "connect_info": "KernelMagics",
        "copy": "Other",
        "ddir": "Other",
        "debug": "ExecutionMagics",
        "dhist": "OSMagics",
        "dirs": "OSMagics",
        "doctest_mode": "BasicMagics",
        "echo": "Other",
        "ed": "Other",
        "edit": "KernelMagics",
        "env": "OSMagics",
        "gui": "BasicMagics",
        "hist": "Other",
        "history": "HistoryMagics",
        "killbgscripts": "ScriptMagics",
        "ldir": "Other",
        "less": "KernelMagics",
        "load": "CodeMagics",
        "load_ext": "ExtensionMagics",
        "loadpy": "CodeMagics",
        "logoff": "LoggingMagics",
        "logon": "LoggingMagics",
        "logstart": "LoggingMagics",
        "logstate": "LoggingMagics",
        "logstop": "LoggingMagics",
        "ls": "Other",
        "lsmagic": "BasicMagics",
        "macro": "ExecutionMagics",
        "magic": "BasicMagics",
        "matplotlib": "PylabMagics",
        "mkdir": "Other",
        "more": "KernelMagics",
        "notebook": "BasicMagics",
        "page": "BasicMagics",
        "pastebin": "CodeMagics",
        "pdb": "ExecutionMagics",
        "pdef": "NamespaceMagics",
        "pdoc": "NamespaceMagics",
        "pfile": "NamespaceMagics",
        "pinfo": "NamespaceMagics",
        "pinfo2": "NamespaceMagics",
        "pip": "PackagingMagics",
        "popd": "OSMagics",
        "pprint": "BasicMagics",
        "precision": "BasicMagics",
        "prun": "ExecutionMagics",
        "psearch": "NamespaceMagics",
        "psource": "NamespaceMagics",
        "pushd": "OSMagics",
        "pwd": "OSMagics",
        "pycat": "OSMagics",
        "pylab": "PylabMagics",
        "qtconsole": "KernelMagics",
        "quickref": "BasicMagics",
        "recall": "HistoryMagics",
        "rehashx": "OSMagics",
        "reload_ext": "ExtensionMagics",
        "ren": "Other",
        "rep": "Other",
        "rerun": "HistoryMagics",
        "reset": "NamespaceMagics",
        "reset_selective": "NamespaceMagics",
        "rmdir": "Other",
        "run": "ExecutionMagics",
        "save": "CodeMagics",
        "sc": "OSMagics",
        "set_env": "OSMagics",
        "store": "StoreMagics",
        "sx": "OSMagics",
        "system": "OSMagics",
        "tb": "ExecutionMagics",
        "time": "ExecutionMagics",
        "timeit": "ExecutionMagics",
        "unalias": "OSMagics",
        "unload_ext": "ExtensionMagics",
        "who": "NamespaceMagics",
        "who_ls": "NamespaceMagics",
        "whos": "NamespaceMagics",
        "xdel": "NamespaceMagics",
        "xmode": "BasicMagics"
       }
      },
      "text/plain": [
       "Available line magics:\n",
       "%alias  %alias_magic  %autoawait  %autocall  %automagic  %autosave  %bookmark  %cd  %clear  %cls  %colors  %conda  %config  %connect_info  %copy  %ddir  %debug  %dhist  %dirs  %doctest_mode  %echo  %ed  %edit  %env  %gui  %hist  %history  %killbgscripts  %ldir  %less  %load  %load_ext  %loadpy  %logoff  %logon  %logstart  %logstate  %logstop  %ls  %lsmagic  %macro  %magic  %matplotlib  %mkdir  %more  %notebook  %page  %pastebin  %pdb  %pdef  %pdoc  %pfile  %pinfo  %pinfo2  %pip  %popd  %pprint  %precision  %prun  %psearch  %psource  %pushd  %pwd  %pycat  %pylab  %qtconsole  %quickref  %recall  %rehashx  %reload_ext  %ren  %rep  %rerun  %reset  %reset_selective  %rmdir  %run  %save  %sc  %set_env  %store  %sx  %system  %tb  %time  %timeit  %unalias  %unload_ext  %who  %who_ls  %whos  %xdel  %xmode\n",
       "\n",
       "Available cell magics:\n",
       "%%!  %%HTML  %%SVG  %%bash  %%capture  %%cmd  %%debug  %%file  %%html  %%javascript  %%js  %%latex  %%markdown  %%perl  %%prun  %%pypy  %%python  %%python2  %%python3  %%ruby  %%script  %%sh  %%svg  %%sx  %%system  %%time  %%timeit  %%writefile\n",
       "\n",
       "Automagic is ON, % prefix IS NOT needed for line magics."
      ]
     },
     "execution_count": 9,
     "metadata": {},
     "output_type": "execute_result"
    }
   ],
   "source": [
    "lsmagic # this works without %"
   ]
  },
  {
   "cell_type": "code",
   "execution_count": 4,
   "metadata": {},
   "outputs": [
    {
     "data": {
      "text/plain": [
       "'C:\\\\Users\\\\rahmad\\\\Desktop\\\\Fitch'"
      ]
     },
     "execution_count": 4,
     "metadata": {},
     "output_type": "execute_result"
    }
   ],
   "source": [
    "pwd # print working directory"
   ]
  },
  {
   "cell_type": "markdown",
   "metadata": {},
   "source": [
    "The latex below has been written in markdown\n",
    "$$\\alpha+\\gamma$$\n",
    "\n",
    "$$\\frac{x}{y}$$\n",
    "\n",
    "$$\\int_{-\\infty}^{\\infty} e^{-x^2} dx = \\sqrt{\\pi}$$\n",
    "What happens if this were done in code mode?"
   ]
  },
  {
   "cell_type": "code",
   "execution_count": 5,
   "metadata": {},
   "outputs": [
    {
     "data": {
      "text/latex": [
       "$$\\alpha+\\gamma$$\n",
       "\n",
       "$$\\frac{x}{y}$$\n",
       "\n",
       "\n",
       "$$\\int_{-\\infty}^{\\infty} e^{-x^2} dx = \\sqrt{\\pi}$$"
      ],
      "text/plain": [
       "<IPython.core.display.Latex object>"
      ]
     },
     "metadata": {},
     "output_type": "display_data"
    }
   ],
   "source": [
    "%%latex # with this cell magic all latex code goes in this cell?\n",
    "$$\\alpha+\\gamma$$\n",
    "\n",
    "$$\\frac{x}{y}$$\n",
    "\n",
    "\n",
    "$$\\int_{-\\infty}^{\\infty} e^{-x^2} dx = \\sqrt{\\pi}$$"
   ]
  },
  {
   "cell_type": "markdown",
   "metadata": {},
   "source": [
    "There is a myriad of resources for learning latex, simply Google it. Here's a couple that sprang up\n",
    "\n",
    "https://oeis.org/wiki/List_of_LaTeX_mathematical_symbols\n",
    "\n",
    "http://www.docs.is.ed.ac.uk/skills/documents/3722/3722-2014.pdf"
   ]
  },
  {
   "cell_type": "markdown",
   "metadata": {},
   "source": [
    "## Spell check\n",
    "Given that notebooks have become an integral part of presentations, it's important that where possible typos and corrected. Although there isn't a spell check built-in, one can be imported using the following commands in Anaconda   "
   ]
  },
  {
   "cell_type": "markdown",
   "metadata": {},
   "source": [
    "pip install jupyter_contrib_nbextensions\n",
    "\n",
    "jupyter contrib nbextension install --user\n",
    "\n",
    "jupyter nbextension enable spellchecker/main"
   ]
  },
  {
   "cell_type": "markdown",
   "metadata": {},
   "source": [
    "Words not recognized by spell check are highlighted."
   ]
  },
  {
   "cell_type": "markdown",
   "metadata": {},
   "source": [
    "Python's simplest built in data types (atoms):\n",
    "\n",
    "1. booleans\n",
    "2. integers\n",
    "3. floats\n",
    "4. strings"
   ]
  },
  {
   "cell_type": "markdown",
   "metadata": {},
   "source": [
    "* These are essentially the 'atoms' that make up the larger 'molecules'\n",
    "* The object type determines what can be done with the data and whether the contents can be changed (mutable or un-mutable).\n",
    "* Python is strongly typed - and object does not change.\n",
    "\n",
    "The official definition of **strongly typed** is:\n",
    "A language in which each type of data (such as integer, character, hexadecimal, packed decimal, etc.) is predefined as part of the programming language and all constants or variables defined for a given program must be described with one of the data types. "
   ]
  },
  {
   "cell_type": "markdown",
   "metadata": {},
   "source": [
    "There are a number of data structures in Python. We will introduce three basic types; **lists** e.g. [\"Beijing\", \"Shanghai\", \"Chengdu] and **tuples** e.g. (\"Shanghai\", 7). In addition the dictionary structure will be covered. "
   ]
  },
  {
   "cell_type": "markdown",
   "metadata": {},
   "source": [
    "## Traditional First Programme\n",
    "If you are familiar with the basics of programming, feel free to skip this section.\n",
    "\n",
    "It is customary to be introduced to any new language by writing the first programme/code that simply outputs a greeting message to the screen. In e.g. C++ such a programme gives a lot of insight to the structure of a programme. So to conform with tradition we do something similar. \n"
   ]
  },
  {
   "cell_type": "code",
   "execution_count": 12,
   "metadata": {},
   "outputs": [
    {
     "name": "stdout",
     "output_type": "stream",
     "text": [
      "hello\n"
     ]
    }
   ],
   "source": [
    "print('hello')"
   ]
  },
  {
   "cell_type": "code",
   "execution_count": 13,
   "metadata": {},
   "outputs": [
    {
     "name": "stdout",
     "output_type": "stream",
     "text": [
      "hello again\n"
     ]
    }
   ],
   "source": [
    "print(\"hello again\")"
   ]
  },
  {
   "cell_type": "markdown",
   "metadata": {},
   "source": [
    "What do you think will happen upon running the next cell?"
   ]
  },
  {
   "cell_type": "code",
   "execution_count": 14,
   "metadata": {},
   "outputs": [
    {
     "ename": "SyntaxError",
     "evalue": "Missing parentheses in call to 'print'. Did you mean print(\"hello?\")? (<ipython-input-14-04090a97af00>, line 1)",
     "output_type": "error",
     "traceback": [
      "\u001b[1;36m  File \u001b[1;32m\"<ipython-input-14-04090a97af00>\"\u001b[1;36m, line \u001b[1;32m1\u001b[0m\n\u001b[1;33m    print \"hello?\"\u001b[0m\n\u001b[1;37m          ^\u001b[0m\n\u001b[1;31mSyntaxError\u001b[0m\u001b[1;31m:\u001b[0m Missing parentheses in call to 'print'. Did you mean print(\"hello?\")?\n"
     ]
    }
   ],
   "source": [
    "print \"hello?\""
   ]
  },
  {
   "cell_type": "markdown",
   "metadata": {},
   "source": [
    "Note single quoted and double quoted are the same – Python is one of a few programming languages where ' ' and \" \" have the same functionality. A general rule of thumb is to choose one and stick with it. Later we will discuss when there may be exceptions to this rule. Comments follow the octothorpe character #. A string is a sequence of characters enclosed in single or double quotes. For those familiar with version 2 of Python, you will note the insistence in version 3 with the use of brackets, as print is a function.\n",
    "\n",
    "You must remain consistent with quote marks, i.e. you will not write ' ....... \".\n",
    "\n",
    "Strings are of lesser importance for computational finance, although they are frequently encountered when dealing with data files, especially when importing or when formatting output. Use of strings can facilitate user friendly code."
   ]
  },
  {
   "cell_type": "markdown",
   "metadata": {},
   "source": [
    "### Python is interactive\n",
    "What makes Python particularly fun is it's interactive nature. You can receive immediate feedback for for each statement, while running previously fed statements in active memory. This also allows the use of interactive mode as a calculator. Here are a few examples: $x+y$, $z^n$, $\\sqrt{m}$"
   ]
  },
  {
   "cell_type": "code",
   "execution_count": null,
   "metadata": {
    "collapsed": true
   },
   "outputs": [],
   "source": [
    "3+2 "
   ]
  },
  {
   "cell_type": "code",
   "execution_count": null,
   "metadata": {
    "collapsed": true
   },
   "outputs": [],
   "source": [
    "8**3 "
   ]
  },
  {
   "cell_type": "code",
   "execution_count": null,
   "metadata": {
    "collapsed": true
   },
   "outputs": [],
   "source": [
    "from math import sqrt\n",
    "import math as math # this is good programming\n",
    "math.sqrt(16) "
   ]
  },
  {
   "cell_type": "markdown",
   "metadata": {},
   "source": [
    "The last operation has been performed without importing the math library. The following command will now produce a result"
   ]
  },
  {
   "cell_type": "code",
   "execution_count": 15,
   "metadata": {},
   "outputs": [
    {
     "data": {
      "text/plain": [
       "4.0"
      ]
     },
     "execution_count": 15,
     "metadata": {},
     "output_type": "execute_result"
    }
   ],
   "source": [
    "from math import sqrt\n",
    "sqrt(16)"
   ]
  },
  {
   "cell_type": "code",
   "execution_count": 16,
   "metadata": {
    "collapsed": true
   },
   "outputs": [],
   "source": [
    "del sqrt # this will delete the square root function"
   ]
  },
  {
   "cell_type": "markdown",
   "metadata": {},
   "source": [
    "Multiple statements can be expressed on the same line separated by commas"
   ]
  },
  {
   "cell_type": "code",
   "execution_count": 17,
   "metadata": {},
   "outputs": [
    {
     "ename": "NameError",
     "evalue": "name 'math' is not defined",
     "output_type": "error",
     "traceback": [
      "\u001b[1;31m---------------------------------------------------------------------------\u001b[0m",
      "\u001b[1;31mNameError\u001b[0m                                 Traceback (most recent call last)",
      "\u001b[1;32m<ipython-input-17-400ebe0e13b8>\u001b[0m in \u001b[0;36m<module>\u001b[1;34m\u001b[0m\n\u001b[1;32m----> 1\u001b[1;33m \u001b[1;36m3\u001b[0m\u001b[1;33m+\u001b[0m\u001b[1;36m2\u001b[0m\u001b[1;33m,\u001b[0m \u001b[1;36m8\u001b[0m\u001b[1;33m**\u001b[0m\u001b[1;36m2\u001b[0m\u001b[1;33m,\u001b[0m \u001b[0mmath\u001b[0m\u001b[1;33m.\u001b[0m\u001b[0msqrt\u001b[0m\u001b[1;33m(\u001b[0m\u001b[1;36m16\u001b[0m\u001b[1;33m)\u001b[0m\u001b[1;33m\u001b[0m\u001b[1;33m\u001b[0m\u001b[0m\n\u001b[0m",
      "\u001b[1;31mNameError\u001b[0m: name 'math' is not defined"
     ]
    }
   ],
   "source": [
    "3+2, 8**2, math.sqrt(16)"
   ]
  },
  {
   "cell_type": "markdown",
   "metadata": {},
   "source": [
    "What happens if you use semi-colons? Try it!\n",
    "\n",
    "If you’ve used semicolons in C++ or Java, you will appreciate they are an integral part of their syntax. Interestingly they have no use in Python. In fact, it’s not even considered “Pythonic” to use semicolons. If we wish to give them some importance, then a semicolon may be used to separate multiple commands on a single line.\n",
    "\n",
    "In Python groups of statements are executed one after the other:"
   ]
  },
  {
   "cell_type": "code",
   "execution_count": null,
   "metadata": {
    "collapsed": true
   },
   "outputs": [],
   "source": [
    "3+2; 8**3; math.sqrt(16)"
   ]
  },
  {
   "cell_type": "code",
   "execution_count": null,
   "metadata": {
    "collapsed": true
   },
   "outputs": [],
   "source": [
    "3+2,\n",
    "8**2, \n",
    "math.sqrt(16)"
   ]
  },
  {
   "cell_type": "code",
   "execution_count": null,
   "metadata": {
    "collapsed": true
   },
   "outputs": [],
   "source": [
    "math.exp(1.0) # exponential function"
   ]
  },
  {
   "cell_type": "markdown",
   "metadata": {},
   "source": [
    "The earlier importing of the sqrt function means that each time a different function is required, it needs to be called making the use of built-in functions quite cumbersome. The following command is a lazy alternative, for beginners to Python.\n",
    "It is also an example of clumsy programming, leading to potential confusion with other libraries/you don't know where the function has come from. "
   ]
  },
  {
   "cell_type": "code",
   "execution_count": null,
   "metadata": {
    "collapsed": true
   },
   "outputs": [],
   "source": [
    "from math import *"
   ]
  },
  {
   "cell_type": "markdown",
   "metadata": {},
   "source": [
    "or we can adopt a short name for an imported module (which is a popular technique)"
   ]
  },
  {
   "cell_type": "code",
   "execution_count": 6,
   "metadata": {
    "collapsed": true
   },
   "outputs": [],
   "source": [
    "import math as m # now the m is an object"
   ]
  },
  {
   "cell_type": "markdown",
   "metadata": {},
   "source": [
    "then use m. before each function call. For example using the exponential function would now be"
   ]
  },
  {
   "cell_type": "code",
   "execution_count": 19,
   "metadata": {},
   "outputs": [
    {
     "data": {
      "text/plain": [
       "2.718281828459045"
      ]
     },
     "execution_count": 19,
     "metadata": {},
     "output_type": "execute_result"
    }
   ],
   "source": [
    "m.exp(1.0)"
   ]
  },
  {
   "cell_type": "code",
   "execution_count": 20,
   "metadata": {},
   "outputs": [
    {
     "name": "stdout",
     "output_type": "stream",
     "text": [
      "<built-in function sqrt>\n"
     ]
    }
   ],
   "source": [
    "print(m.sqrt)"
   ]
  },
  {
   "cell_type": "code",
   "execution_count": 21,
   "metadata": {
    "collapsed": true
   },
   "outputs": [],
   "source": [
    "m.sqrt?"
   ]
  },
  {
   "cell_type": "markdown",
   "metadata": {},
   "source": [
    "The last method is advisable and easy to read (not to mention efficient)"
   ]
  },
  {
   "cell_type": "markdown",
   "metadata": {},
   "source": [
    "## The $\\log$ function\n",
    "The standard bases for a numeric value $x$ are logarithm \n",
    "\n",
    "**base 10** log10(x)\n",
    "\n",
    "**base 2** log2(x)\n",
    "\n",
    "**base e** log(x)\n",
    "\n",
    "And for any general base $a$ is log(x,a). Consider the following examples\n"
   ]
  },
  {
   "cell_type": "code",
   "execution_count": 22,
   "metadata": {},
   "outputs": [
    {
     "data": {
      "text/plain": [
       "(0.6020599913279624, 0.6020599913279623)"
      ]
     },
     "execution_count": 22,
     "metadata": {},
     "output_type": "execute_result"
    }
   ],
   "source": [
    "m.log10(4), m.log(4,10)"
   ]
  },
  {
   "cell_type": "code",
   "execution_count": 23,
   "metadata": {},
   "outputs": [
    {
     "data": {
      "text/plain": [
       "1.6397385131955606"
      ]
     },
     "execution_count": 23,
     "metadata": {},
     "output_type": "execute_result"
    }
   ],
   "source": [
    "m.log(14,5)"
   ]
  },
  {
   "cell_type": "code",
   "execution_count": 24,
   "metadata": {},
   "outputs": [
    {
     "data": {
      "text/plain": [
       "(2.6390573296152584, 2.6390573296152584)"
      ]
     },
     "execution_count": 24,
     "metadata": {},
     "output_type": "execute_result"
    }
   ],
   "source": [
    "m.log(14), m.log(14,m.e)"
   ]
  },
  {
   "cell_type": "code",
   "execution_count": 25,
   "metadata": {},
   "outputs": [
    {
     "data": {
      "text/plain": [
       "3.141592653589793"
      ]
     },
     "execution_count": 25,
     "metadata": {},
     "output_type": "execute_result"
    }
   ],
   "source": [
    "m.pi"
   ]
  },
  {
   "cell_type": "markdown",
   "metadata": {},
   "source": [
    "This is the methods approach in OOP.\n",
    "The notation m.exp(1.0) is a first example of object-oriented programming (OOP). Being a mathematical function, the object m owns the method function that is called using the dot\n",
    "notation. No further knowledge of OOP than understanding the notation . is required at this stage.\n",
    "This differs from function(.....)"
   ]
  },
  {
   "cell_type": "markdown",
   "metadata": {},
   "source": [
    "**A comprehensive list of mathematical functions can be obtained from**\n",
    "https://docs.python.org/2/library/math.html"
   ]
  },
  {
   "cell_type": "markdown",
   "metadata": {},
   "source": [
    "## tab and autocomplete\n",
    "<img src=\"./img/tab.png\" style=\"width:350px\">"
   ]
  },
  {
   "cell_type": "code",
   "execution_count": 9,
   "metadata": {},
   "outputs": [
    {
     "data": {
      "text/plain": [
       "1.0"
      ]
     },
     "execution_count": 9,
     "metadata": {},
     "output_type": "execute_result"
    }
   ],
   "source": [
    "m.sin(m.pi/2)"
   ]
  },
  {
   "cell_type": "code",
   "execution_count": 10,
   "metadata": {},
   "outputs": [
    {
     "data": {
      "text/plain": [
       "3.141592653589793"
      ]
     },
     "execution_count": 10,
     "metadata": {},
     "output_type": "execute_result"
    }
   ],
   "source": [
    "m.pi"
   ]
  },
  {
   "cell_type": "markdown",
   "metadata": {},
   "source": [
    "Having seen the advantage of autocomplete (using the tab key) there is another useful step. Suppose we wish to see the parameter/argument list of any built-in function e.g. the log function. Here type m.log()\n",
    "Then with the cursor inside the parenthesis **shift tab** displays the (shortened) list; while doing it twice shows the complete list."
   ]
  },
  {
   "cell_type": "markdown",
   "metadata": {},
   "source": [
    "<img src=\"./img/auto.png\" style=\"width:650px\">"
   ]
  },
  {
   "cell_type": "markdown",
   "metadata": {},
   "source": [
    "Try the above with a different function here"
   ]
  },
  {
   "cell_type": "code",
   "execution_count": null,
   "metadata": {
    "collapsed": true
   },
   "outputs": [],
   "source": []
  },
  {
   "cell_type": "markdown",
   "metadata": {},
   "source": [
    "# Strings and operations "
   ]
  },
  {
   "cell_type": "markdown",
   "metadata": {},
   "source": [
    "A **string** is a sequence of characters, comprising of letters, numbers or symbols. In some languages a string is defined as an array of characters. We have already discussed the defining of an array using single or double speech marks. "
   ]
  },
  {
   "cell_type": "markdown",
   "metadata": {},
   "source": [
    "An empty string can also be created by a pair of single quotes or double quotes with nothing within the quotation marks."
   ]
  },
  {
   "cell_type": "code",
   "execution_count": 11,
   "metadata": {},
   "outputs": [
    {
     "name": "stdout",
     "output_type": "stream",
     "text": [
      "string 1 is,   i.e.empty\n",
      "string 2 is,   i.e.empty\n"
     ]
    }
   ],
   "source": [
    "str1=''\n",
    "str2=\"\"\n",
    "print(\"string 1 is, \", str1, \"i.e.empty\")\n",
    "print(\"string 2 is, \", str2, \"i.e.empty\")"
   ]
  },
  {
   "cell_type": "code",
   "execution_count": 13,
   "metadata": {
    "collapsed": true
   },
   "outputs": [],
   "source": [
    "str1?"
   ]
  },
  {
   "cell_type": "markdown",
   "metadata": {},
   "source": [
    "Two strings can be joined/added together (concatenated) using the **+** operator:"
   ]
  },
  {
   "cell_type": "code",
   "execution_count": 30,
   "metadata": {},
   "outputs": [
    {
     "data": {
      "text/plain": [
       "'Hello, Riaz!'"
      ]
     },
     "execution_count": 30,
     "metadata": {},
     "output_type": "execute_result"
    }
   ],
   "source": [
    "\"Hello, \"+\"Riaz!\""
   ]
  },
  {
   "cell_type": "markdown",
   "metadata": {},
   "source": [
    "This joining together of strings is very simple; however if you want words split by a space you have to put the space in. Here are some examples"
   ]
  },
  {
   "cell_type": "code",
   "execution_count": 31,
   "metadata": {},
   "outputs": [
    {
     "data": {
      "text/plain": [
       "'Hello, world!'"
      ]
     },
     "execution_count": 31,
     "metadata": {},
     "output_type": "execute_result"
    }
   ],
   "source": [
    "\"Hello, \"   +  \"world!\" # space after the comma"
   ]
  },
  {
   "cell_type": "code",
   "execution_count": 32,
   "metadata": {},
   "outputs": [
    {
     "data": {
      "text/plain": [
       "'Hello, world!'"
      ]
     },
     "execution_count": 32,
     "metadata": {},
     "output_type": "execute_result"
    }
   ],
   "source": [
    "\"Hello,\"  +  \" world!\" # space before second word"
   ]
  },
  {
   "cell_type": "code",
   "execution_count": 33,
   "metadata": {},
   "outputs": [
    {
     "data": {
      "text/plain": [
       "'Hello,world!'"
      ]
     },
     "execution_count": 33,
     "metadata": {},
     "output_type": "execute_result"
    }
   ],
   "source": [
    "\"Hello,\"  +  \"world!\" # no spaces included\n"
   ]
  },
  {
   "cell_type": "markdown",
   "metadata": {},
   "source": [
    "Text is a string of characters. Text can be converted to genuine integers using a built-in function int()"
   ]
  },
  {
   "cell_type": "code",
   "execution_count": 34,
   "metadata": {},
   "outputs": [
    {
     "data": {
      "text/plain": [
       "str"
      ]
     },
     "execution_count": 34,
     "metadata": {},
     "output_type": "execute_result"
    }
   ],
   "source": [
    "x=int(\"10\")\n",
    "type(\"10\") #function type returns the data tyep"
   ]
  },
  {
   "cell_type": "code",
   "execution_count": 35,
   "metadata": {},
   "outputs": [
    {
     "data": {
      "text/plain": [
       "-100"
      ]
     },
     "execution_count": 35,
     "metadata": {},
     "output_type": "execute_result"
    }
   ],
   "source": [
    "int(\"-100\")"
   ]
  },
  {
   "cell_type": "code",
   "execution_count": 36,
   "metadata": {},
   "outputs": [
    {
     "ename": "ValueError",
     "evalue": "invalid literal for int() with base 10: '100-10'",
     "output_type": "error",
     "traceback": [
      "\u001b[1;31m---------------------------------------------------------------------------\u001b[0m",
      "\u001b[1;31mValueError\u001b[0m                                Traceback (most recent call last)",
      "\u001b[1;32m<ipython-input-36-f75d25e76eae>\u001b[0m in \u001b[0;36m<module>\u001b[1;34m\u001b[0m\n\u001b[1;32m----> 1\u001b[1;33m \u001b[0mint\u001b[0m\u001b[1;33m(\u001b[0m\u001b[1;34m\"100-10\"\u001b[0m\u001b[1;33m)\u001b[0m \u001b[1;31m# this gives an error\u001b[0m\u001b[1;33m\u001b[0m\u001b[1;33m\u001b[0m\u001b[0m\n\u001b[0m",
      "\u001b[1;31mValueError\u001b[0m: invalid literal for int() with base 10: '100-10'"
     ]
    }
   ],
   "source": [
    "int(\"100-10\") # this gives an error"
   ]
  },
  {
   "cell_type": "markdown",
   "metadata": {},
   "source": [
    "The following is allowed "
   ]
  },
  {
   "cell_type": "code",
   "execution_count": 37,
   "metadata": {},
   "outputs": [
    {
     "data": {
      "text/plain": [
       "-90"
      ]
     },
     "execution_count": 37,
     "metadata": {},
     "output_type": "execute_result"
    }
   ],
   "source": [
    "int('10')-int(\"100\")"
   ]
  },
  {
   "cell_type": "markdown",
   "metadata": {},
   "source": [
    "## Escape sequences\n",
    "\n",
    "Like C++, Python also has escape sequences for string literals, to insert whitespace into strings. \n",
    "\n",
    "Two commonly used ones are the new line code **\\n** and the tab code **\\t**."
   ]
  },
  {
   "cell_type": "code",
   "execution_count": 38,
   "metadata": {},
   "outputs": [
    {
     "name": "stdout",
     "output_type": "stream",
     "text": [
      "Hello,\n",
      "world\n"
     ]
    }
   ],
   "source": [
    "print(\"Hello,\\nworld\") # inserts a new line"
   ]
  },
  {
   "cell_type": "code",
   "execution_count": 39,
   "metadata": {},
   "outputs": [
    {
     "name": "stdout",
     "output_type": "stream",
     "text": [
      "Hello,\tworld\n"
     ]
    }
   ],
   "source": [
    "print(\"Hello,\\tworld\") # inserts a tab"
   ]
  },
  {
   "cell_type": "markdown",
   "metadata": {},
   "source": [
    "In Python 3, by default the tab size is 4 chars. There are also others:"
   ]
  },
  {
   "cell_type": "markdown",
   "metadata": {},
   "source": [
    "\\r = carriage return (basically also used for printing stuff on the next line)\n",
    "\n",
    "\\’ = print a single quote ( ‘ ) in your text\n",
    "\n",
    "\\” = print a double quote ( “ ) in your text\n",
    "\n",
    "\\\\ = print a backslash ( \\ ) in your text\n"
   ]
  },
  {
   "cell_type": "markdown",
   "metadata": {},
   "source": [
    "## String length\n",
    "\n",
    "To find out the length of a string, use the function **len()**:"
   ]
  },
  {
   "cell_type": "code",
   "execution_count": 40,
   "metadata": {},
   "outputs": [
    {
     "data": {
      "text/plain": [
       "34"
      ]
     },
     "execution_count": 40,
     "metadata": {},
     "output_type": "execute_result"
    }
   ],
   "source": [
    "len(\"supercalifragilisticexpialidocious\") # from Mary Poppins"
   ]
  },
  {
   "cell_type": "code",
   "execution_count": 41,
   "metadata": {},
   "outputs": [
    {
     "data": {
      "text/plain": [
       "35"
      ]
     },
     "execution_count": 41,
     "metadata": {},
     "output_type": "execute_result"
    }
   ],
   "source": [
    "len(\"supercali fragilisticexpialidocious\") # whitespace is also counted"
   ]
  },
  {
   "cell_type": "markdown",
   "metadata": {},
   "source": [
    "We can join several copies of a string with the operator *"
   ]
  },
  {
   "cell_type": "code",
   "execution_count": 42,
   "metadata": {},
   "outputs": [
    {
     "data": {
      "text/plain": [
       "'AbCAbCAbC'"
      ]
     },
     "execution_count": 42,
     "metadata": {},
     "output_type": "execute_result"
    }
   ],
   "source": [
    "3*\"AbC\"  # nothing exciting!"
   ]
  },
  {
   "cell_type": "markdown",
   "metadata": {},
   "source": [
    "## Slicing - capturing a substring\n",
    "**Slicing** is a method used to extract a portion of the string, i.e *substrings*. Slicing uses [ ] to contain the indices of the characters in a string. A string with n characters, has the first index at 0, and the last is n-1.  Here is an example:  "
   ]
  },
  {
   "cell_type": "code",
   "execution_count": 14,
   "metadata": {},
   "outputs": [
    {
     "name": "stdout",
     "output_type": "stream",
     "text": [
      "hopefully bojo\n"
     ]
    },
    {
     "data": {
      "text/plain": [
       "str"
      ]
     },
     "execution_count": 14,
     "metadata": {},
     "output_type": "execute_result"
    }
   ],
   "source": [
    "string = \"hopefully bojo's brexit will fail!\"\n",
    "print(string[0:14]) # from 0 up to 13\n",
    "len(\"hopefully bojo's brexit will fail!\")\n",
    "type(string)"
   ]
  },
  {
   "cell_type": "markdown",
   "metadata": {},
   "source": [
    "Given a string variable s, the most commonly used types of slices are \n",
    "\n",
    "s[i], returns the character in position i , \n",
    "\n",
    "s[:i], which returns the leading characters from positions 0 to i-1, and \n",
    "\n",
    "s[i:], returns the trailing characters from positions i to n-1. \n",
    "\n",
    "s[i:j:k], returns the characters from i to j-1 in steps of k"
   ]
  },
  {
   "cell_type": "markdown",
   "metadata": {},
   "source": [
    "A string can be accessed from the right of the string that is the last character on the right has the index of -1. The character before last has the index of -2, and so on."
   ]
  },
  {
   "cell_type": "markdown",
   "metadata": {},
   "source": [
    "<img src=\"./img/hello string.png\" style=\"width:550px\">"
   ]
  },
  {
   "cell_type": "markdown",
   "metadata": {},
   "source": [
    "In the string “Hello!”, the character “H”, while accessing from left-to-right, has the index of 0 and while accessing from right-to-left has the index of -6. On the other hand While accessing the string elements from left-to-right index start with 0 and keep on incrementing by 1, whereas accessing the string elements from right-to-left the index starts with -1 and keep decrementing by 1. "
   ]
  },
  {
   "cell_type": "markdown",
   "metadata": {},
   "source": [
    "<br> <font color = black  size=4.5> Exercise "
   ]
  },
  {
   "cell_type": "markdown",
   "metadata": {},
   "source": [
    "1. Try each of the above\n",
    "2. What does s[-i] return?\n",
    "\n",
    "**Run them first before asking!!**"
   ]
  },
  {
   "cell_type": "code",
   "execution_count": 44,
   "metadata": {},
   "outputs": [
    {
     "data": {
      "text/plain": [
       "'l'"
      ]
     },
     "execution_count": 44,
     "metadata": {},
     "output_type": "execute_result"
    }
   ],
   "source": [
    "string[-2]"
   ]
  },
  {
   "cell_type": "code",
   "execution_count": 45,
   "metadata": {},
   "outputs": [
    {
     "data": {
      "text/plain": [
       "'h'"
      ]
     },
     "execution_count": 45,
     "metadata": {},
     "output_type": "execute_result"
    }
   ],
   "source": [
    "string[-34] #-34 from the end of the string equates to position zero"
   ]
  },
  {
   "cell_type": "markdown",
   "metadata": {},
   "source": [
    "Staying with our variable called string, there are a number of methods available for manipulating variables of this type\n",
    "string. Then hit the tab key"
   ]
  },
  {
   "cell_type": "code",
   "execution_count": 46,
   "metadata": {},
   "outputs": [
    {
     "data": {
      "text/plain": [
       "\"Hopefully bojo's brexit will fail!\""
      ]
     },
     "execution_count": 46,
     "metadata": {},
     "output_type": "execute_result"
    }
   ],
   "source": [
    "string.capitalize() # capitalises the very first letter in the string"
   ]
  },
  {
   "cell_type": "markdown",
   "metadata": {},
   "source": [
    "To convert each letter to upper case the method called upper."
   ]
  },
  {
   "cell_type": "code",
   "execution_count": 47,
   "metadata": {},
   "outputs": [
    {
     "data": {
      "text/plain": [
       "\"HOPEFULLY BOJO'S BREXIT WILL FAIL!\""
      ]
     },
     "execution_count": 47,
     "metadata": {},
     "output_type": "execute_result"
    }
   ],
   "source": [
    "string.upper()"
   ]
  },
  {
   "cell_type": "markdown",
   "metadata": {},
   "source": [
    "To convert each element to lower case, we can use the following:"
   ]
  },
  {
   "cell_type": "code",
   "execution_count": 48,
   "metadata": {},
   "outputs": [
    {
     "data": {
      "text/plain": [
       "'will dr trump be a one term president?'"
      ]
     },
     "execution_count": 48,
     "metadata": {},
     "output_type": "execute_result"
    }
   ],
   "source": [
    "\"WILL DR TRUMP BE A ONE TERM PRESIDENT?\".lower()"
   ]
  },
  {
   "cell_type": "code",
   "execution_count": 17,
   "metadata": {},
   "outputs": [
    {
     "data": {
      "text/plain": [
       "['hopefully', \"bojo's\", 'brexit', 'will', 'fail!']"
      ]
     },
     "execution_count": 17,
     "metadata": {},
     "output_type": "execute_result"
    }
   ],
   "source": [
    "substring=string.split() # use the split method and call it by another name\n",
    "substring"
   ]
  },
  {
   "cell_type": "code",
   "execution_count": 50,
   "metadata": {},
   "outputs": [
    {
     "data": {
      "text/plain": [
       "'hopefully'"
      ]
     },
     "execution_count": 50,
     "metadata": {},
     "output_type": "execute_result"
    }
   ],
   "source": [
    "substring[0] # we can access each element of substring using indexing"
   ]
  },
  {
   "cell_type": "markdown",
   "metadata": {},
   "source": [
    "A string is an **immutable** object. Its individual characters cannot be modified with an assignment statement and it has a fixed length. Any attempt to be violate this property will result in TypeError\n"
   ]
  },
  {
   "cell_type": "code",
   "execution_count": 51,
   "metadata": {},
   "outputs": [
    {
     "ename": "TypeError",
     "evalue": "'str' object does not support item assignment",
     "output_type": "error",
     "traceback": [
      "\u001b[1;31m---------------------------------------------------------------------------\u001b[0m",
      "\u001b[1;31mTypeError\u001b[0m                                 Traceback (most recent call last)",
      "\u001b[1;32m<ipython-input-51-c6c283ea175d>\u001b[0m in \u001b[0;36m<module>\u001b[1;34m\u001b[0m\n\u001b[1;32m----> 1\u001b[1;33m \u001b[0mstring\u001b[0m\u001b[1;33m[\u001b[0m\u001b[1;36m0\u001b[0m\u001b[1;33m]\u001b[0m\u001b[1;33m=\u001b[0m\u001b[1;34m\"H\"\u001b[0m \u001b[1;31m# attempt to change h to H\u001b[0m\u001b[1;33m\u001b[0m\u001b[1;33m\u001b[0m\u001b[0m\n\u001b[0m",
      "\u001b[1;31mTypeError\u001b[0m: 'str' object does not support item assignment"
     ]
    }
   ],
   "source": [
    "string[0]=\"H\" # attempt to change h to H"
   ]
  },
  {
   "cell_type": "markdown",
   "metadata": {},
   "source": [
    "to use quotation marks in strings, use \\\\. We can add arbitrary quotes by escaping them:\n"
   ]
  },
  {
   "cell_type": "code",
   "execution_count": 52,
   "metadata": {},
   "outputs": [
    {
     "name": "stdout",
     "output_type": "stream",
     "text": [
      "She said. \"He's coming.\"\n"
     ]
    }
   ],
   "source": [
    "print(\"She said. \\\"He\\'s coming.\\\"\") # note \\\"...\\'s....\\\""
   ]
  },
  {
   "cell_type": "markdown",
   "metadata": {},
   "source": [
    "\\ is reserved.  \\n for a newline, \\t for a tabulation, \\’ . . . "
   ]
  },
  {
   "cell_type": "markdown",
   "metadata": {},
   "source": [
    "## Type()\n",
    "We can query the type of a value. The **type** function returns the type of any object. Combining types incorrectly returns an error. \n",
    "On a string it can be used as follows"
   ]
  },
  {
   "cell_type": "code",
   "execution_count": 53,
   "metadata": {},
   "outputs": [
    {
     "data": {
      "text/plain": [
       "str"
      ]
     },
     "execution_count": 53,
     "metadata": {},
     "output_type": "execute_result"
    }
   ],
   "source": [
    "type(string) # defined earlier"
   ]
  },
  {
   "cell_type": "code",
   "execution_count": 54,
   "metadata": {},
   "outputs": [
    {
     "data": {
      "text/plain": [
       "str"
      ]
     },
     "execution_count": 54,
     "metadata": {},
     "output_type": "execute_result"
    }
   ],
   "source": [
    "type(\"hello, mum\")"
   ]
  },
  {
   "cell_type": "markdown",
   "metadata": {},
   "source": [
    "**Note:** Variables themselves do not have a fixed type. It is only the values they refer to that have a type. This means that the type referred to by a variable can change as more statements are interpreted. Consider the following example, we use the string variable above which we see is type str"
   ]
  },
  {
   "cell_type": "code",
   "execution_count": 55,
   "metadata": {},
   "outputs": [
    {
     "data": {
      "text/plain": [
       "float"
      ]
     },
     "execution_count": 55,
     "metadata": {},
     "output_type": "execute_result"
    }
   ],
   "source": [
    "var1 = 2.0\n",
    "type(var1)"
   ]
  },
  {
   "cell_type": "code",
   "execution_count": 56,
   "metadata": {},
   "outputs": [
    {
     "data": {
      "text/plain": [
       "int"
      ]
     },
     "execution_count": 56,
     "metadata": {},
     "output_type": "execute_result"
    }
   ],
   "source": [
    "var2 = 2\n",
    "type(var2)"
   ]
  },
  {
   "cell_type": "markdown",
   "metadata": {},
   "source": [
    "## Exercises\n",
    "\n",
    "https://docs.python.org/2/library/string.html\n",
    "\n",
    "Given the string \"How to defend yourself against a man armed with a banana\", write code to extract:\n",
    "\n",
    "1. the following substring: \"How to defend yo\"\n",
    "2. the first character only\n",
    "3. the last character only\n",
    "4. the last two characters\n",
    "5. the substring \"with a banana\"\n",
    "\n",
    "Convert the 'b' in banana to upper case"
   ]
  },
  {
   "cell_type": "markdown",
   "metadata": {},
   "source": [
    "## Input from keyboard\n",
    "Python has a built-in function for reading input. The function **input()** can be used to request information from the user via the keyboard. Here are a couple of examples"
   ]
  },
  {
   "cell_type": "code",
   "execution_count": 18,
   "metadata": {},
   "outputs": [
    {
     "name": "stdout",
     "output_type": "stream",
     "text": [
      "what is the value of x? 3\n",
      "x=  3\n"
     ]
    },
    {
     "data": {
      "text/plain": [
       "str"
      ]
     },
     "execution_count": 18,
     "metadata": {},
     "output_type": "execute_result"
    }
   ],
   "source": [
    "x=input(\"what is the value of x? \")\n",
    "print(\"x= \", x)\n",
    "type(x)"
   ]
  },
  {
   "cell_type": "code",
   "execution_count": 19,
   "metadata": {},
   "outputs": [
    {
     "name": "stdout",
     "output_type": "stream",
     "text": [
      "what is your name? Riaz\n",
      "Hello,  Riaz\n",
      "R\n"
     ]
    }
   ],
   "source": [
    "name=input(\"what is your name? \")\n",
    "print(\"Hello, \",name)\n",
    "print(name[0]) # print 1st element of string"
   ]
  },
  {
   "cell_type": "markdown",
   "metadata": {},
   "source": [
    "## Exercises\n",
    "\n",
    "1. Create a program that assigns two integers, $a$ and $b$. Compute and display:\n",
    "> * The sum of a and b\n",
    "> * The difference when $b$ is subtracted from $a$\n",
    ">\n",
    "> * The product of $a$ and $b$\n",
    ">\n",
    "> * The quotient when $a$ is divided by $b$\n",
    ">\n",
    ">* The remainder when $a$ is divided by $b$\n",
    ">\n",
    ">* The result $\\log_{10}a$\n",
    ">\n",
    ">* The result $ab$"
   ]
  },
  {
   "cell_type": "markdown",
   "metadata": {},
   "source": [
    "# Data Types"
   ]
  },
  {
   "cell_type": "markdown",
   "metadata": {},
   "source": [
    "When defining variable names they should only contain numbers, letters (both upper and lower), and underscores _. They must begin with a letter or an underscore - **Python is case sensitive**. As with most languages it is important that reserved words (e.g. **import** or **for**) are not used for variable names. A reserved word in Python is a word that's either\n",
    "\n",
    "* Already the name of a built in function, like **print** or **sum** or **list**\n",
    "* Already the name of an operator, like **and**, or **or**, or **not**\n",
    "* Already the name of a type, like **int**\n",
    "\n",
    "Bad things happen if you try to make a variable that has the same name as a reserved word. So good to become familiar with the basic and frequently used reserved words.\n",
    "\n",
    "Here are some examples of legal user defined variable names"
   ]
  },
  {
   "cell_type": "code",
   "execution_count": 59,
   "metadata": {
    "collapsed": true
   },
   "outputs": [],
   "source": [
    "x = 1.0\n",
    "X = 1.0 \n",
    "X1 = 1.0\n",
    "X1 = 1.0  # note redefinition is allowed\n",
    "x1 = 1.0\n",
    "big = 1.0\n",
    "bigfoot = 1.0\n",
    "Bigfoot = 1.0\n",
    "_x = 1.0  # legal but not encouraged\n",
    "x_ = 1.0  # as above"
   ]
  },
  {
   "cell_type": "markdown",
   "metadata": {},
   "source": [
    "The following are illegal names for variables"
   ]
  },
  {
   "cell_type": "code",
   "execution_count": 60,
   "metadata": {},
   "outputs": [
    {
     "ename": "SyntaxError",
     "evalue": "invalid syntax (<ipython-input-60-45901d1005cd>, line 1)",
     "output_type": "error",
     "traceback": [
      "\u001b[1;36m  File \u001b[1;32m\"<ipython-input-60-45901d1005cd>\"\u001b[1;36m, line \u001b[1;32m1\u001b[0m\n\u001b[1;33m    x:=  1.0\u001b[0m\n\u001b[1;37m     ^\u001b[0m\n\u001b[1;31mSyntaxError\u001b[0m\u001b[1;31m:\u001b[0m invalid syntax\n"
     ]
    }
   ],
   "source": [
    "x:=  1.0\n",
    "1X = 1\n",
    "X-1 = 1\n",
    "for = 1"
   ]
  },
  {
   "cell_type": "markdown",
   "metadata": {},
   "source": [
    "Multiple variables can be assigned on the same line using commas"
   ]
  },
  {
   "cell_type": "code",
   "execution_count": 20,
   "metadata": {
    "collapsed": true
   },
   "outputs": [],
   "source": [
    "x=3; pi=3.14; name=\"Riaz\"; letter='a'"
   ]
  },
  {
   "cell_type": "code",
   "execution_count": 22,
   "metadata": {},
   "outputs": [
    {
     "name": "stdout",
     "output_type": "stream",
     "text": [
      "3 3.14 Riaz a\n"
     ]
    }
   ],
   "source": [
    "print(x,pi,name,letter)"
   ]
  },
  {
   "cell_type": "code",
   "execution_count": 27,
   "metadata": {},
   "outputs": [],
   "source": [
    "x,y,z = 3, 'hello' , 2.6"
   ]
  },
  {
   "cell_type": "markdown",
   "metadata": {},
   "source": [
    "**Note:** To assign a value to a variable, we use the operator = (not to be confused with ‘equal to’). It is evaluated from right to left\n",
    "name = “Riaz”\n",
    "can be seen as  name     “Riaz”\n",
    "and interpreted as ‘Riaz is assigned to the variable name’. So writing the script x = 3 reads as the integer 3 has been assigned to the variable. Note the type of variable x did not have to be declared prior to its initialisation. \n",
    "**Whitespace** is the name given to spaces, tabs and indents. Whitespace is also used to define blocks (in C++) using indentation. This promotes readability. For certain code it is necessary, and we will discuss later in the section on user-defined functions. Python is whitespace sensitive, so care needs to be taken in knowing when (and when not) to use it."
   ]
  },
  {
   "cell_type": "markdown",
   "metadata": {},
   "source": [
    "Python uses a highly enhanced memory allocation system which attempts to avoid allocating unnecessary memory. As a result, when one variable is assigned to another (e.g. to y = x), these will actually point to the same data in the computer’s memory. \n",
    "\n",
    "The function id() can be used to determine the unique identification number of a piece of data. Consider the following example\n"
   ]
  },
  {
   "cell_type": "code",
   "execution_count": 28,
   "metadata": {
    "collapsed": true
   },
   "outputs": [],
   "source": [
    "import math as m"
   ]
  },
  {
   "cell_type": "code",
   "execution_count": 29,
   "metadata": {},
   "outputs": [
    {
     "name": "stdout",
     "output_type": "stream",
     "text": [
      "3.141592653589793\n"
     ]
    }
   ],
   "source": [
    "x=m.pi\n",
    "y=x\n",
    "print(y)"
   ]
  },
  {
   "cell_type": "code",
   "execution_count": 31,
   "metadata": {},
   "outputs": [
    {
     "name": "stdout",
     "output_type": "stream",
     "text": [
      "id for x is,  2386128217360\n",
      "id for y is,  2386128217360\n"
     ]
    }
   ],
   "source": [
    "print(\"id for x is, \",id(x))\n",
    "print(\"id for y is, \",id(y))"
   ]
  },
  {
   "cell_type": "code",
   "execution_count": 32,
   "metadata": {},
   "outputs": [
    {
     "name": "stdout",
     "output_type": "stream",
     "text": [
      "id for x is,  2386174706960\n",
      "id for y is,  2386128217360\n"
     ]
    }
   ],
   "source": [
    "# now change the value of x\n",
    "x=1.0\n",
    "print(\"id for x is, \",id(x))\n",
    "print(\"id for y is, \",id(y))"
   ]
  },
  {
   "cell_type": "markdown",
   "metadata": {},
   "source": [
    "In the above example, the initial assignment of y = x produced two variables with the same ID. Once x was changed, its ID changed while the ID of y did not, indicating that the data in each variable was\n",
    "stored in different locations. "
   ]
  },
  {
   "cell_type": "markdown",
   "metadata": {},
   "source": [
    "## A quick note on storage\n",
    "We aren't doing a computer science course. However it's not a bad idea to have some very basic appreciation of computer storage - it'll make us more responsible scientific programmers.\n",
    "In computing a **bit** is short for binary digit and is the smallest unit of data in a computer. A bit has a single binary value, either 0 or 1. \n",
    "**Bytes** can then be expressed as units of bits. So, half a byte is four bits (called a nibble). Terminology does vary so in some systems, the term octet is used for an eight-bit unit instead of byte. In many systems, four eight-bit bytes or octets form a 32-bit word. Lets initialise a variable and check the number of bits. Again tab allows us to autocomplete. These methods require () at the end. Typically square brackets [] are used for indexing."
   ]
  },
  {
   "cell_type": "code",
   "execution_count": 35,
   "metadata": {},
   "outputs": [
    {
     "data": {
      "text/plain": [
       "3"
      ]
     },
     "execution_count": 35,
     "metadata": {},
     "output_type": "execute_result"
    }
   ],
   "source": [
    "x=5\n",
    "x.bit_length()"
   ]
  },
  {
   "cell_type": "code",
   "execution_count": 36,
   "metadata": {},
   "outputs": [
    {
     "data": {
      "text/plain": [
       "10"
      ]
     },
     "execution_count": 36,
     "metadata": {},
     "output_type": "execute_result"
    }
   ],
   "source": [
    "y=1000\n",
    "y.bit_length()"
   ]
  },
  {
   "cell_type": "markdown",
   "metadata": {},
   "source": [
    "## Computing with formulas\n",
    "Having dispensed with the customary code, our first examples involve programs that evaluate mathematical formulas. The interactive nature of python means it can be used as a calculator. Consider a fundamental but very important problem in finance $$TV=PV(1+r)^N$$ where given an an initial investment $PV$ compounded at rate $r$ over $N$ years "
   ]
  },
  {
   "cell_type": "code",
   "execution_count": 69,
   "metadata": {},
   "outputs": [
    {
     "name": "stdout",
     "output_type": "stream",
     "text": [
      "133.10000000000005\n"
     ]
    }
   ],
   "source": [
    "PV=100; r=0.1; N=3 # define and initialise variables \n",
    "TV=PV*(1+r)**N;  # expressing compounding \n",
    "print(TV)"
   ]
  },
  {
   "cell_type": "markdown",
   "metadata": {},
   "source": [
    "Note $x^n$ is expressed in python as x**n"
   ]
  },
  {
   "cell_type": "markdown",
   "metadata": {},
   "source": [
    "The above could have all been expressed on a single line to look like"
   ]
  },
  {
   "cell_type": "code",
   "execution_count": 70,
   "metadata": {},
   "outputs": [
    {
     "name": "stdout",
     "output_type": "stream",
     "text": [
      "133.10000000000005\n"
     ]
    }
   ],
   "source": [
    "PV=100; r=0.1; N=3; TV=PV*(1+r)**N; print(TV)"
   ]
  },
  {
   "cell_type": "markdown",
   "metadata": {
    "collapsed": true
   },
   "source": [
    "It still works. As would"
   ]
  },
  {
   "cell_type": "code",
   "execution_count": 71,
   "metadata": {},
   "outputs": [
    {
     "name": "stdout",
     "output_type": "stream",
     "text": [
      "133.10000000000005\n"
     ]
    }
   ],
   "source": [
    "print(100*(1+0.1)**3) # this is a complete Python program!"
   ]
  },
  {
   "cell_type": "markdown",
   "metadata": {},
   "source": [
    "If interest rates are continuously compounded the earlier formula becomes\n",
    "$$TV=PVe^{r(T-t)}$$\n",
    "Then using the same numerical values gives "
   ]
  },
  {
   "cell_type": "code",
   "execution_count": 72,
   "metadata": {},
   "outputs": [
    {
     "name": "stdout",
     "output_type": "stream",
     "text": [
      "134.9858807576003\n"
     ]
    }
   ],
   "source": [
    "import math as m\n",
    "PV=100; r=0.1; T=3; t=0 # define and initialise variables \n",
    "TV=PV*m.exp(r*(T-t));  # expressing continuous compounding \n",
    "print(TV)"
   ]
  },
  {
   "cell_type": "markdown",
   "metadata": {},
   "source": [
    "Rearranging the compounding formulas gives us a formula for discounting. That is, calculating the current worth $PV$ of money in the future $TV$.\n",
    "$$PV=TV(1+r)^{-N}$$\n",
    "$$PV=TVe^{-r(T-t)}$$\n"
   ]
  },
  {
   "cell_type": "markdown",
   "metadata": {},
   "source": [
    "## Preliminary Remarks about Program Style\n",
    "**Whitespace** is the name given to spaces, tabs and indents. Whitespace is also used to define blocks (in C++) using indentation. This promotes readability. For certain code it is necessary, and we will discuss later in the section on user-defined functions.The end of a line is unimportant in Python, as it almost completely ignores whitespace. The compounding formula script above was expressed in two ways and both gave the same result. However the lack of program comments, spaces, new lines and indentation makes this program quite unacceptable, and with larger programs becomes very difficult to read. Whilst there is much more to developing a good programming style than learning to lay out programs properly, this is nevertheless a good start. \n",
    "Be consistent with your program layout, and make sure the indentation and spacing reflects the logical structure of your program.  \n",
    "\n",
    "It is also a good idea to choose meaningful names for variables. Remember that your code might need modification by other programmers at a later date. Even if a programmer refers to their own code (say) a year later, without proper documentation and use of meaningful variable names, they will need to spend considerable time refreshing them self on the various parts of the code. \n",
    "\n",
    "Unlike some languages, whitespace is significant in Python.  In Python a block is delimited by indentation. There's no brackets or parentheses to match up just indents. "
   ]
  },
  {
   "cell_type": "markdown",
   "metadata": {},
   "source": [
    "## Syntactic sugar\n",
    "syntactic sugar is syntax within a programming language that is designed to make things easier to read or to express. It makes the language \"sweeter\" for human use: things can be expressed more clearly, more concisely, or in an alternative style that some may prefer.\n",
    "\n",
    "https://en.wikipedia.org/wiki/Syntactic_sugar\n"
   ]
  },
  {
   "cell_type": "markdown",
   "metadata": {},
   "source": [
    "A number can be represented by different types of variables:\n",
    "* int for integer \n",
    "* long integers for integer not in the previous interval. They are stored in a more complex format. Such integers are printed out with an L at the end. The range of these long integers is only limited by the amount of available memory in the computer. Operations on long integers are slower than on normal integers!"
   ]
  },
  {
   "cell_type": "markdown",
   "metadata": {},
   "source": [
    "For Simple Arithmetic Calculations – BIDMAS or BODMAS\n",
    "$4+8/2$ is calculated as $4+(8/2)=8$"
   ]
  },
  {
   "cell_type": "code",
   "execution_count": 73,
   "metadata": {},
   "outputs": [
    {
     "data": {
      "text/plain": [
       "8.0"
      ]
     },
     "execution_count": 73,
     "metadata": {},
     "output_type": "execute_result"
    }
   ],
   "source": [
    "4 + 8 / 2 # spaces around the operator do not matter"
   ]
  },
  {
   "cell_type": "markdown",
   "metadata": {},
   "source": [
    "In the current version of Python, integer division gives a real number. No type-casting required. "
   ]
  },
  {
   "cell_type": "code",
   "execution_count": 74,
   "metadata": {},
   "outputs": [
    {
     "data": {
      "text/plain": [
       "(6.666666666666667, float)"
      ]
     },
     "execution_count": 74,
     "metadata": {},
     "output_type": "execute_result"
    }
   ],
   "source": [
    "20/3 , type(20/3)"
   ]
  },
  {
   "cell_type": "markdown",
   "metadata": {},
   "source": [
    "If you are using version 2 of Python, simply write as 20.0/3 or 20/3.0 or type-caste as float(20)/3 to ensure a real value. Python 2.7 can use the Python 3 integer division behavior by including"
   ]
  },
  {
   "cell_type": "code",
   "execution_count": 75,
   "metadata": {
    "collapsed": true
   },
   "outputs": [],
   "source": [
    "from __future__ import division"
   ]
  },
  {
   "cell_type": "markdown",
   "metadata": {},
   "source": [
    "**Integer powers** "
   ]
  },
  {
   "cell_type": "markdown",
   "metadata": {},
   "source": [
    "4 ** 3 is legal, but 4 * * 3 is not. Spaces around an operator don't matter. Spaces in the operator do!"
   ]
  },
  {
   "cell_type": "code",
   "execution_count": 76,
   "metadata": {},
   "outputs": [
    {
     "data": {
      "text/plain": [
       "64"
      ]
     },
     "execution_count": 76,
     "metadata": {},
     "output_type": "execute_result"
    }
   ],
   "source": [
    "4**3"
   ]
  },
  {
   "cell_type": "code",
   "execution_count": 77,
   "metadata": {},
   "outputs": [
    {
     "ename": "SyntaxError",
     "evalue": "invalid syntax (<ipython-input-77-b8b4a96dbdc5>, line 1)",
     "output_type": "error",
     "traceback": [
      "\u001b[1;36m  File \u001b[1;32m\"<ipython-input-77-b8b4a96dbdc5>\"\u001b[1;36m, line \u001b[1;32m1\u001b[0m\n\u001b[1;33m    4 * * 3\u001b[0m\n\u001b[1;37m        ^\u001b[0m\n\u001b[1;31mSyntaxError\u001b[0m\u001b[1;31m:\u001b[0m invalid syntax\n"
     ]
    }
   ],
   "source": [
    "4 * * 3"
   ]
  },
  {
   "cell_type": "markdown",
   "metadata": {},
   "source": [
    "**Integer remainders/Modulo:** Use % to obtain integer remainders. It operates on the absolute values"
   ]
  },
  {
   "cell_type": "code",
   "execution_count": 78,
   "metadata": {},
   "outputs": [
    {
     "data": {
      "text/plain": [
       "(0, 2, 1)"
      ]
     },
     "execution_count": 78,
     "metadata": {},
     "output_type": "execute_result"
    }
   ],
   "source": [
    "4%2 , 20%6 , -5%2"
   ]
  },
  {
   "cell_type": "markdown",
   "metadata": {},
   "source": [
    "Unlike some other languages, variables can be **negated** directly e.g."
   ]
  },
  {
   "cell_type": "code",
   "execution_count": 79,
   "metadata": {},
   "outputs": [
    {
     "data": {
      "text/plain": [
       "-3"
      ]
     },
     "execution_count": 79,
     "metadata": {},
     "output_type": "execute_result"
    }
   ],
   "source": [
    "x=3\n",
    "-x"
   ]
  },
  {
   "cell_type": "markdown",
   "metadata": {},
   "source": [
    "**Further Functions: int() and round()**"
   ]
  },
  {
   "cell_type": "code",
   "execution_count": 80,
   "metadata": {},
   "outputs": [
    {
     "data": {
      "text/plain": [
       "(3, 3)"
      ]
     },
     "execution_count": 80,
     "metadata": {},
     "output_type": "execute_result"
    }
   ],
   "source": [
    "int(3.4) , int(3.9)"
   ]
  },
  {
   "cell_type": "code",
   "execution_count": 81,
   "metadata": {},
   "outputs": [
    {
     "data": {
      "text/plain": [
       "(3, 4)"
      ]
     },
     "execution_count": 81,
     "metadata": {},
     "output_type": "execute_result"
    }
   ],
   "source": [
    "round(3.4) , round(3.9)"
   ]
  },
  {
   "cell_type": "code",
   "execution_count": 82,
   "metadata": {},
   "outputs": [
    {
     "data": {
      "text/plain": [
       "3.239982"
      ]
     },
     "execution_count": 82,
     "metadata": {},
     "output_type": "execute_result"
    }
   ],
   "source": [
    "round(3.2399817,6) # 2 parameter function"
   ]
  },
  {
   "cell_type": "markdown",
   "metadata": {},
   "source": [
    "In programming languages generally, a variable name represents a value of a given type (int, float, etc.) stored in a fixed memory location. The value of a variable can be changed but not the variable type. This is not the case in Python where variables are *typed dynamically* as illustrated below \n"
   ]
  },
  {
   "cell_type": "code",
   "execution_count": 83,
   "metadata": {},
   "outputs": [
    {
     "data": {
      "text/plain": [
       "int"
      ]
     },
     "execution_count": 83,
     "metadata": {},
     "output_type": "execute_result"
    }
   ],
   "source": [
    "x=3 # type int\n",
    "type(x)"
   ]
  },
  {
   "cell_type": "code",
   "execution_count": 84,
   "metadata": {},
   "outputs": [
    {
     "data": {
      "text/plain": [
       "float"
      ]
     },
     "execution_count": 84,
     "metadata": {},
     "output_type": "execute_result"
    }
   ],
   "source": [
    "x=x**2.0\n",
    "type(x) # type now changes"
   ]
  },
  {
   "cell_type": "markdown",
   "metadata": {
    "collapsed": true
   },
   "source": [
    "## The fraction module\n",
    "The fractions module provides support for rational number arithmetic. It is essentially a two-tuple. A Fraction can simply be constructed from a pair of integers, from another rational number, or from a string. The syntax for importing the **fractions** library is"
   ]
  },
  {
   "cell_type": "code",
   "execution_count": 37,
   "metadata": {
    "collapsed": true
   },
   "outputs": [],
   "source": [
    "from fractions import Fraction as F"
   ]
  },
  {
   "cell_type": "markdown",
   "metadata": {},
   "source": [
    "The type of the object created is type Fraction. Here are some examples"
   ]
  },
  {
   "cell_type": "code",
   "execution_count": 38,
   "metadata": {},
   "outputs": [
    {
     "data": {
      "text/plain": [
       "(Fraction(1, 2), Fraction(2, 3))"
      ]
     },
     "execution_count": 38,
     "metadata": {},
     "output_type": "execute_result"
    }
   ],
   "source": [
    "a=F(1,2) # initialise a fraction \n",
    "b=F(2,3)\n",
    "type(a), type(b)"
   ]
  },
  {
   "cell_type": "code",
   "execution_count": 39,
   "metadata": {},
   "outputs": [
    {
     "data": {
      "text/plain": [
       "(Fraction(7, 6), Fraction(1, 3), Fraction(3, 4))"
      ]
     },
     "execution_count": 39,
     "metadata": {},
     "output_type": "execute_result"
    }
   ],
   "source": [
    "a+b, a*b, a/b"
   ]
  },
  {
   "cell_type": "markdown",
   "metadata": {},
   "source": [
    "If we use the print() function to output the display we then get"
   ]
  },
  {
   "cell_type": "code",
   "execution_count": 88,
   "metadata": {},
   "outputs": [
    {
     "name": "stdout",
     "output_type": "stream",
     "text": [
      "7/6\n"
     ]
    }
   ],
   "source": [
    "print(a+b) # has a nicer output"
   ]
  },
  {
   "cell_type": "code",
   "execution_count": 89,
   "metadata": {},
   "outputs": [
    {
     "data": {
      "text/plain": [
       "Fraction(-12, 25)"
      ]
     },
     "execution_count": 89,
     "metadata": {},
     "output_type": "execute_result"
    }
   ],
   "source": [
    "F(24, -50) # produces an equivalent fraction in its simplest form"
   ]
  },
  {
   "cell_type": "code",
   "execution_count": 90,
   "metadata": {},
   "outputs": [
    {
     "data": {
      "text/plain": [
       "Fraction(49, 1)"
      ]
     },
     "execution_count": 90,
     "metadata": {},
     "output_type": "execute_result"
    }
   ],
   "source": [
    "F(49)"
   ]
  },
  {
   "cell_type": "code",
   "execution_count": 91,
   "metadata": {},
   "outputs": [
    {
     "data": {
      "text/plain": [
       "Fraction(-4, 5)"
      ]
     },
     "execution_count": 91,
     "metadata": {},
     "output_type": "execute_result"
    }
   ],
   "source": [
    "F('-4/5')"
   ]
  },
  {
   "cell_type": "code",
   "execution_count": 92,
   "metadata": {},
   "outputs": [
    {
     "data": {
      "text/plain": [
       "Fraction(-13, 40)"
      ]
     },
     "execution_count": 92,
     "metadata": {},
     "output_type": "execute_result"
    }
   ],
   "source": [
    "F('-0.325')"
   ]
  },
  {
   "cell_type": "markdown",
   "metadata": {},
   "source": [
    "Predict the outcome of the following and then run "
   ]
  },
  {
   "cell_type": "code",
   "execution_count": 93,
   "metadata": {},
   "outputs": [
    {
     "name": "stdout",
     "output_type": "stream",
     "text": [
      "<class 'str'>\n"
     ]
    }
   ],
   "source": [
    "x=type('-4/5')\n",
    "print(x)"
   ]
  },
  {
   "cell_type": "markdown",
   "metadata": {},
   "source": [
    "More examples at https://docs.python.org/2/library/fractions.html"
   ]
  },
  {
   "cell_type": "markdown",
   "metadata": {},
   "source": [
    "## How large can a Python integer be?"
   ]
  },
  {
   "cell_type": "code",
   "execution_count": 94,
   "metadata": {},
   "outputs": [
    {
     "data": {
      "text/plain": [
       "39402006196394479212279040100143613805079739270465446667948293404245721771497210611414266254884915640806627990306816"
      ]
     },
     "execution_count": 94,
     "metadata": {},
     "output_type": "execute_result"
    }
   ],
   "source": [
    "4294967296**12"
   ]
  },
  {
   "cell_type": "markdown",
   "metadata": {},
   "source": [
    "Python integers have unlimited range since the amount of bits used to store an integer is dynamic. So there is no limit - the only limit is machine memory. "
   ]
  },
  {
   "cell_type": "markdown",
   "metadata": {},
   "source": [
    "## Floating point\n",
    "The most important (scalar) data type for numerical analysis purposes is the **float**. To input a floating data type, it is necessary to include a dot. So while 3 is an integer, 3.0 is a float. "
   ]
  },
  {
   "cell_type": "code",
   "execution_count": 95,
   "metadata": {},
   "outputs": [
    {
     "data": {
      "text/plain": [
       "int"
      ]
     },
     "execution_count": 95,
     "metadata": {},
     "output_type": "execute_result"
    }
   ],
   "source": [
    "x=3; type(x)"
   ]
  },
  {
   "cell_type": "code",
   "execution_count": 96,
   "metadata": {},
   "outputs": [
    {
     "data": {
      "text/plain": [
       "float"
      ]
     },
     "execution_count": 96,
     "metadata": {},
     "output_type": "execute_result"
    }
   ],
   "source": [
    "x=3.0; type(x)"
   ]
  },
  {
   "cell_type": "code",
   "execution_count": 97,
   "metadata": {},
   "outputs": [
    {
     "data": {
      "text/plain": [
       "float"
      ]
     },
     "execution_count": 97,
     "metadata": {},
     "output_type": "execute_result"
    }
   ],
   "source": [
    "x=float(3); type(x)"
   ]
  },
  {
   "cell_type": "markdown",
   "metadata": {},
   "source": [
    "So the integer 3 has now been converted to the float 3.0"
   ]
  },
  {
   "cell_type": "markdown",
   "metadata": {},
   "source": [
    "**Hidden precision - ** Consider the following "
   ]
  },
  {
   "cell_type": "code",
   "execution_count": 98,
   "metadata": {},
   "outputs": [
    {
     "data": {
      "text/plain": [
       "0.1"
      ]
     },
     "execution_count": 98,
     "metadata": {},
     "output_type": "execute_result"
    }
   ],
   "source": [
    "0.1"
   ]
  },
  {
   "cell_type": "code",
   "execution_count": 99,
   "metadata": {},
   "outputs": [
    {
     "data": {
      "text/plain": [
       "0.2"
      ]
     },
     "execution_count": 99,
     "metadata": {},
     "output_type": "execute_result"
    }
   ],
   "source": [
    "0.1+0.1"
   ]
  },
  {
   "cell_type": "code",
   "execution_count": 100,
   "metadata": {},
   "outputs": [
    {
     "data": {
      "text/plain": [
       "0.30000000000000004"
      ]
     },
     "execution_count": 100,
     "metadata": {},
     "output_type": "execute_result"
    }
   ],
   "source": [
    "0.1+0.1+0.1"
   ]
  },
  {
   "cell_type": "markdown",
   "metadata": {},
   "source": [
    "Yes, really! If you are relying on this last decimal place, you are doing it wrong! We saw this earlier with the compounding formula example.\n"
   ]
  },
  {
   "cell_type": "markdown",
   "metadata": {},
   "source": [
    "Switching between a long integer value and standard form is achievable using the float() function"
   ]
  },
  {
   "cell_type": "code",
   "execution_count": 101,
   "metadata": {
    "collapsed": true
   },
   "outputs": [],
   "source": [
    "x=2**127+2**65"
   ]
  },
  {
   "cell_type": "code",
   "execution_count": 102,
   "metadata": {},
   "outputs": [
    {
     "data": {
      "text/plain": [
       "170141183460469231768580791863303208960"
      ]
     },
     "execution_count": 102,
     "metadata": {},
     "output_type": "execute_result"
    }
   ],
   "source": [
    "x"
   ]
  },
  {
   "cell_type": "code",
   "execution_count": 103,
   "metadata": {},
   "outputs": [
    {
     "data": {
      "text/plain": [
       "1.7014118346046923e+38"
      ]
     },
     "execution_count": 103,
     "metadata": {},
     "output_type": "execute_result"
    }
   ],
   "source": [
    "float(x) # this now converts the above to standard form"
   ]
  },
  {
   "cell_type": "code",
   "execution_count": 104,
   "metadata": {},
   "outputs": [
    {
     "data": {
      "text/plain": [
       "1e+23"
      ]
     },
     "execution_count": 104,
     "metadata": {},
     "output_type": "execute_result"
    }
   ],
   "source": [
    "float(100000000000000000000000)"
   ]
  },
  {
   "cell_type": "markdown",
   "metadata": {},
   "source": [
    "Standard form is also referred to as **scientific notation**. So $a\\times{10^N}$ where $a\\in{\\mathbb{R}},  x\\in{\\mathbb{Z}}$ can be written in Python as aeN.\n",
    "\n",
    "**Examples**\n",
    "* 3e8 is $3\\times{10^8}$\n",
    "* 9.109e-19 is $9.109\\times{10^{-19}}$"
   ]
  },
  {
   "cell_type": "markdown",
   "metadata": {},
   "source": [
    "Earlier we converted text to integers. Text can also be converted to floats, using the function above, e.g."
   ]
  },
  {
   "cell_type": "code",
   "execution_count": 105,
   "metadata": {},
   "outputs": [
    {
     "data": {
      "text/plain": [
       "(100.0, 10.0)"
      ]
     },
     "execution_count": 105,
     "metadata": {},
     "output_type": "execute_result"
    }
   ],
   "source": [
    "float('100') , float ('10.0')"
   ]
  },
  {
   "cell_type": "markdown",
   "metadata": {},
   "source": [
    "We can do the opposite and convert different types to text, i.e. type str"
   ]
  },
  {
   "cell_type": "markdown",
   "metadata": {},
   "source": [
    "The Python method **as_integer_ratio** returns a pair of integers whose ratio is exactly equal to the original float and with a positive denominator"
   ]
  },
  {
   "cell_type": "code",
   "execution_count": 106,
   "metadata": {},
   "outputs": [
    {
     "data": {
      "text/plain": [
       "(3152519739159347, 9007199254740992)"
      ]
     },
     "execution_count": 106,
     "metadata": {},
     "output_type": "execute_result"
    }
   ],
   "source": [
    "x = 0.35\n",
    "x.as_integer_ratio()"
   ]
  },
  {
   "cell_type": "code",
   "execution_count": 107,
   "metadata": {},
   "outputs": [
    {
     "data": {
      "text/plain": [
       "'10'"
      ]
     },
     "execution_count": 107,
     "metadata": {},
     "output_type": "execute_result"
    }
   ],
   "source": [
    "str(10)"
   ]
  },
  {
   "cell_type": "code",
   "execution_count": 108,
   "metadata": {},
   "outputs": [
    {
     "data": {
      "text/plain": [
       "'100.0'"
      ]
     },
     "execution_count": 108,
     "metadata": {},
     "output_type": "execute_result"
    }
   ],
   "source": [
    "str('100.0')"
   ]
  },
  {
   "cell_type": "markdown",
   "metadata": {},
   "source": [
    "So when converting between types \n",
    "* **int()** anything to an integer\n",
    "* **float()** anything to float\n",
    "* **str()** anything to string"
   ]
  },
  {
   "cell_type": "code",
   "execution_count": 109,
   "metadata": {},
   "outputs": [
    {
     "data": {
      "text/plain": [
       "'300000000.0'"
      ]
     },
     "execution_count": 109,
     "metadata": {},
     "output_type": "execute_result"
    }
   ],
   "source": [
    "str(3e8)"
   ]
  },
  {
   "cell_type": "markdown",
   "metadata": {},
   "source": [
    "## More keyboard input"
   ]
  },
  {
   "cell_type": "code",
   "execution_count": 110,
   "metadata": {},
   "outputs": [
    {
     "name": "stdout",
     "output_type": "stream",
     "text": [
      "enter the circle radius - 10\n",
      "The circle area of radius  10.0  =  314.0\n"
     ]
    }
   ],
   "source": [
    "r=float(input(\"enter the circle radius - \"))\n",
    "area = 3.14*r**2\n",
    "print(\"The circle area of radius \", r, \" = \",area)"
   ]
  },
  {
   "cell_type": "markdown",
   "metadata": {},
   "source": [
    "Run the script above without the float function in line 1. Can you explain what is happening?"
   ]
  },
  {
   "cell_type": "markdown",
   "metadata": {},
   "source": [
    "**Integer and float arithmetic**: When performing arithmetic operations, spaces around operators do not matter (ignored in the calculation). So 20 / 3 is evaluated in the same way as 20/3, etc. In the later verisons of python, type-casting is not required. This means whereas in previous versions the integer division 20/3 = 6; requiring float(20)/3 to produce the correct value, we now have"
   ]
  },
  {
   "cell_type": "code",
   "execution_count": null,
   "metadata": {
    "collapsed": true
   },
   "outputs": [],
   "source": [
    "20/3"
   ]
  },
  {
   "cell_type": "markdown",
   "metadata": {
    "collapsed": true
   },
   "source": [
    "## Deleting a variable\n",
    "To delete the attachment we use the Python command **del**. The command\n",
    "\tdel object\n",
    "returns us to the state where the name is no longer known.\n",
    "You can delete multiple names with the slightly extended syntax\n",
    "\tdel thing1, thing2, thing3\n",
    "This is equivalent to\n",
    "\tdel thing1\n",
    "\tdel thing2\n",
    "\tdel thing3\n",
    "but more compact.\n"
   ]
  },
  {
   "cell_type": "code",
   "execution_count": 111,
   "metadata": {},
   "outputs": [
    {
     "name": "stdout",
     "output_type": "stream",
     "text": [
      "10\n"
     ]
    }
   ],
   "source": [
    "x=10; print(x)"
   ]
  },
  {
   "cell_type": "code",
   "execution_count": 112,
   "metadata": {
    "collapsed": true
   },
   "outputs": [],
   "source": [
    "del x"
   ]
  },
  {
   "cell_type": "code",
   "execution_count": 113,
   "metadata": {},
   "outputs": [
    {
     "ename": "NameError",
     "evalue": "name 'x' is not defined",
     "output_type": "error",
     "traceback": [
      "\u001b[1;31m---------------------------------------------------------------------------\u001b[0m",
      "\u001b[1;31mNameError\u001b[0m                                 Traceback (most recent call last)",
      "\u001b[1;32m<ipython-input-113-fc17d851ef81>\u001b[0m in \u001b[0;36m<module>\u001b[1;34m\u001b[0m\n\u001b[1;32m----> 1\u001b[1;33m \u001b[0mprint\u001b[0m\u001b[1;33m(\u001b[0m\u001b[0mx\u001b[0m\u001b[1;33m)\u001b[0m\u001b[1;33m\u001b[0m\u001b[1;33m\u001b[0m\u001b[0m\n\u001b[0m",
      "\u001b[1;31mNameError\u001b[0m: name 'x' is not defined"
     ]
    }
   ],
   "source": [
    "print(x)"
   ]
  },
  {
   "cell_type": "markdown",
   "metadata": {},
   "source": [
    "So the variable x is unkown"
   ]
  },
  {
   "cell_type": "markdown",
   "metadata": {},
   "source": [
    "## Null Values\n",
    "Sometimes we present \"no data\" or \"not applicable\". In Python the special value None is used, it corresponds to Null in Java (C++ has a pointer value Null). Eg."
   ]
  },
  {
   "cell_type": "code",
   "execution_count": 114,
   "metadata": {},
   "outputs": [
    {
     "name": "stdout",
     "output_type": "stream",
     "text": [
      "None\n"
     ]
    }
   ],
   "source": [
    "value = None\n",
    "print(value)"
   ]
  },
  {
   "cell_type": "markdown",
   "metadata": {},
   "source": [
    "Note above when we fetch the value None, no result is printed out. What type is it?"
   ]
  },
  {
   "cell_type": "code",
   "execution_count": 115,
   "metadata": {},
   "outputs": [
    {
     "data": {
      "text/plain": [
       "NoneType"
      ]
     },
     "execution_count": 115,
     "metadata": {},
     "output_type": "execute_result"
    }
   ],
   "source": [
    "type(value)"
   ]
  },
  {
   "cell_type": "markdown",
   "metadata": {},
   "source": [
    "We can check whether there is indeed a result or not using the **is** operator, which will return True or False:"
   ]
  },
  {
   "cell_type": "code",
   "execution_count": 116,
   "metadata": {},
   "outputs": [
    {
     "data": {
      "text/plain": [
       "True"
      ]
     },
     "execution_count": 116,
     "metadata": {},
     "output_type": "execute_result"
    }
   ],
   "source": [
    "value is None"
   ]
  },
  {
   "cell_type": "markdown",
   "metadata": {},
   "source": [
    "## Polymorphism\n",
    "The meaning of an operator depends on the type we are applying it to."
   ]
  },
  {
   "cell_type": "code",
   "execution_count": 117,
   "metadata": {},
   "outputs": [
    {
     "data": {
      "text/plain": [
       "2"
      ]
     },
     "execution_count": 117,
     "metadata": {},
     "output_type": "execute_result"
    }
   ],
   "source": [
    "1+1"
   ]
  },
  {
   "cell_type": "code",
   "execution_count": 118,
   "metadata": {},
   "outputs": [
    {
     "data": {
      "text/plain": [
       "'ab'"
      ]
     },
     "execution_count": 118,
     "metadata": {},
     "output_type": "execute_result"
    }
   ],
   "source": [
    "'a'+'b'"
   ]
  },
  {
   "cell_type": "code",
   "execution_count": 119,
   "metadata": {},
   "outputs": [
    {
     "data": {
      "text/plain": [
       "'Brexit is for fools'"
      ]
     },
     "execution_count": 119,
     "metadata": {},
     "output_type": "execute_result"
    }
   ],
   "source": [
    "\"Brexit \" + \"is \" + \"for \" + \"fools\""
   ]
  },
  {
   "cell_type": "code",
   "execution_count": 120,
   "metadata": {},
   "outputs": [
    {
     "data": {
      "text/plain": [
       "'11'"
      ]
     },
     "execution_count": 120,
     "metadata": {},
     "output_type": "execute_result"
    }
   ],
   "source": [
    "'1'+'1'"
   ]
  },
  {
   "cell_type": "markdown",
   "metadata": {
    "collapsed": true
   },
   "source": [
    "## Size of\n",
    "In C++ there is an operator **sizeof(*type*)** which returns size in bytes of the object/type. \n",
    "In Python **getsizeof** function found in the sys module will give the byte size of the object. Here's a few examples:"
   ]
  },
  {
   "cell_type": "code",
   "execution_count": 121,
   "metadata": {},
   "outputs": [
    {
     "data": {
      "text/plain": [
       "54"
      ]
     },
     "execution_count": 121,
     "metadata": {},
     "output_type": "execute_result"
    }
   ],
   "source": [
    "import sys as sys # import the appropriate module\n",
    "string = \"G\"\n",
    "sys.getsizeof(string)"
   ]
  },
  {
   "cell_type": "code",
   "execution_count": 122,
   "metadata": {},
   "outputs": [
    {
     "data": {
      "text/plain": [
       "416"
      ]
     },
     "execution_count": 122,
     "metadata": {},
     "output_type": "execute_result"
    }
   ],
   "source": [
    "sys.getsizeof(float) # type class float"
   ]
  },
  {
   "cell_type": "code",
   "execution_count": 123,
   "metadata": {},
   "outputs": [
    {
     "data": {
      "text/plain": [
       "24"
      ]
     },
     "execution_count": 123,
     "metadata": {},
     "output_type": "execute_result"
    }
   ],
   "source": [
    "sys.getsizeof(23.657484884) # type float"
   ]
  },
  {
   "cell_type": "code",
   "execution_count": 124,
   "metadata": {},
   "outputs": [
    {
     "data": {
      "text/plain": [
       "72"
      ]
     },
     "execution_count": 124,
     "metadata": {},
     "output_type": "execute_result"
    }
   ],
   "source": [
    "sys.getsizeof(chr) # type float"
   ]
  },
  {
   "cell_type": "markdown",
   "metadata": {},
   "source": [
    "## The **range()** function\n",
    "It is tedious to write:\n",
    "a = [0, 1, 2, 3, 4, 5, 6, 7, 8, 9]. There is a Python function that allows this to be done compactly. This is done using the range() function. So the earlier example can be expressed as\n",
    "\n",
    "a = range(10)\n",
    "\n",
    "range(n) returns the list of integers from 0 up to but not including n. \n",
    "\n",
    "range(m, n) returns the list of integers from m up to but not including n.\n",
    "\n",
    "range(5, 10) gives [5, 6, 7, 8, 9]\n",
    "\n",
    "range(m, n, i) returns a list of integers from m up to (n-1) in equal steps of +i\n",
    "\n",
    "range(4, 16, 2) gives [4, 6, 8, 10, 12, 14]\n",
    "\n",
    "So in short it generates a list of numbers, which is generally used to iterate over with for loops. "
   ]
  },
  {
   "cell_type": "code",
   "execution_count": 125,
   "metadata": {},
   "outputs": [
    {
     "name": "stdout",
     "output_type": "stream",
     "text": [
      "range(0, 4) <class 'range'>\n"
     ]
    },
    {
     "data": {
      "text/plain": [
       "0"
      ]
     },
     "execution_count": 125,
     "metadata": {},
     "output_type": "execute_result"
    }
   ],
   "source": [
    "x=range(4)\n",
    "print(x, type(x))\n",
    "x[0]"
   ]
  },
  {
   "cell_type": "markdown",
   "metadata": {},
   "source": [
    "Running the above script doesn't do anything exciting. We will look at loops in detail later. But for the timebeing run the following"
   ]
  },
  {
   "cell_type": "code",
   "execution_count": 126,
   "metadata": {},
   "outputs": [
    {
     "name": "stdout",
     "output_type": "stream",
     "text": [
      "4\n",
      "6\n",
      "8\n",
      "10\n",
      "12\n",
      "14\n",
      "16\n"
     ]
    }
   ],
   "source": [
    "for x in range(4,17,2):\n",
    "    print(x)"
   ]
  },
  {
   "cell_type": "markdown",
   "metadata": {},
   "source": [
    "How about printing in one line?"
   ]
  },
  {
   "cell_type": "code",
   "execution_count": 127,
   "metadata": {},
   "outputs": [
    {
     "name": "stdout",
     "output_type": "stream",
     "text": [
      "4 6 8 10 12 14 16\n"
     ]
    }
   ],
   "source": [
    "print(*range(4,17,2))"
   ]
  },
  {
   "cell_type": "markdown",
   "metadata": {},
   "source": [
    "## Complex numbers (complex)\n",
    "\n",
    "https://docs.python.org/2/library/cmath.html\n",
    "\n",
    "Python has all the functions to manipulate complex numbers. Here $j=\\sqrt{-1}$ replaces $i$; so consistent with engineers!"
   ]
  },
  {
   "cell_type": "markdown",
   "metadata": {},
   "source": [
    "$z=x+iy=re^{i\\theta}$\n"
   ]
  },
  {
   "cell_type": "markdown",
   "metadata": {
    "collapsed": true
   },
   "source": [
    "<img src='./img/complex.png' width=350>"
   ]
  },
  {
   "cell_type": "markdown",
   "metadata": {},
   "source": [
    "To make use of all the complex maths library functions, import **cmath**. We now have all the functions to manipulate in $\\mathbb{C}$."
   ]
  },
  {
   "cell_type": "code",
   "execution_count": 40,
   "metadata": {},
   "outputs": [
    {
     "name": "stdout",
     "output_type": "stream",
     "text": [
      "2j\n"
     ]
    }
   ],
   "source": [
    "import cmath as cm\n",
    "print(cm.sqrt(-4))"
   ]
  },
  {
   "cell_type": "code",
   "execution_count": 41,
   "metadata": {},
   "outputs": [
    {
     "name": "stdout",
     "output_type": "stream",
     "text": [
      "Help on complex object:\n",
      "\n",
      "class complex(object)\n",
      " |  complex(real[, imag]) -> complex number\n",
      " |  \n",
      " |  Create a complex number from a real part and an optional imaginary part.\n",
      " |  This is equivalent to (real + imag*1j) where imag defaults to 0.\n",
      " |  \n",
      " |  Methods defined here:\n",
      " |  \n",
      " |  __abs__(self, /)\n",
      " |      abs(self)\n",
      " |  \n",
      " |  __add__(self, value, /)\n",
      " |      Return self+value.\n",
      " |  \n",
      " |  __bool__(self, /)\n",
      " |      self != 0\n",
      " |  \n",
      " |  __divmod__(self, value, /)\n",
      " |      Return divmod(self, value).\n",
      " |  \n",
      " |  __eq__(self, value, /)\n",
      " |      Return self==value.\n",
      " |  \n",
      " |  __float__(self, /)\n",
      " |      float(self)\n",
      " |  \n",
      " |  __floordiv__(self, value, /)\n",
      " |      Return self//value.\n",
      " |  \n",
      " |  __format__(...)\n",
      " |      complex.__format__() -> str\n",
      " |      \n",
      " |      Convert to a string according to format_spec.\n",
      " |  \n",
      " |  __ge__(self, value, /)\n",
      " |      Return self>=value.\n",
      " |  \n",
      " |  __getattribute__(self, name, /)\n",
      " |      Return getattr(self, name).\n",
      " |  \n",
      " |  __getnewargs__(...)\n",
      " |  \n",
      " |  __gt__(self, value, /)\n",
      " |      Return self>value.\n",
      " |  \n",
      " |  __hash__(self, /)\n",
      " |      Return hash(self).\n",
      " |  \n",
      " |  __int__(self, /)\n",
      " |      int(self)\n",
      " |  \n",
      " |  __le__(self, value, /)\n",
      " |      Return self<=value.\n",
      " |  \n",
      " |  __lt__(self, value, /)\n",
      " |      Return self<value.\n",
      " |  \n",
      " |  __mod__(self, value, /)\n",
      " |      Return self%value.\n",
      " |  \n",
      " |  __mul__(self, value, /)\n",
      " |      Return self*value.\n",
      " |  \n",
      " |  __ne__(self, value, /)\n",
      " |      Return self!=value.\n",
      " |  \n",
      " |  __neg__(self, /)\n",
      " |      -self\n",
      " |  \n",
      " |  __new__(*args, **kwargs) from builtins.type\n",
      " |      Create and return a new object.  See help(type) for accurate signature.\n",
      " |  \n",
      " |  __pos__(self, /)\n",
      " |      +self\n",
      " |  \n",
      " |  __pow__(self, value, mod=None, /)\n",
      " |      Return pow(self, value, mod).\n",
      " |  \n",
      " |  __radd__(self, value, /)\n",
      " |      Return value+self.\n",
      " |  \n",
      " |  __rdivmod__(self, value, /)\n",
      " |      Return divmod(value, self).\n",
      " |  \n",
      " |  __repr__(self, /)\n",
      " |      Return repr(self).\n",
      " |  \n",
      " |  __rfloordiv__(self, value, /)\n",
      " |      Return value//self.\n",
      " |  \n",
      " |  __rmod__(self, value, /)\n",
      " |      Return value%self.\n",
      " |  \n",
      " |  __rmul__(self, value, /)\n",
      " |      Return value*self.\n",
      " |  \n",
      " |  __rpow__(self, value, mod=None, /)\n",
      " |      Return pow(value, self, mod).\n",
      " |  \n",
      " |  __rsub__(self, value, /)\n",
      " |      Return value-self.\n",
      " |  \n",
      " |  __rtruediv__(self, value, /)\n",
      " |      Return value/self.\n",
      " |  \n",
      " |  __str__(self, /)\n",
      " |      Return str(self).\n",
      " |  \n",
      " |  __sub__(self, value, /)\n",
      " |      Return self-value.\n",
      " |  \n",
      " |  __truediv__(self, value, /)\n",
      " |      Return self/value.\n",
      " |  \n",
      " |  conjugate(...)\n",
      " |      complex.conjugate() -> complex\n",
      " |      \n",
      " |      Return the complex conjugate of its argument. (3-4j).conjugate() == 3+4j.\n",
      " |  \n",
      " |  ----------------------------------------------------------------------\n",
      " |  Data descriptors defined here:\n",
      " |  \n",
      " |  imag\n",
      " |      the imaginary part of a complex number\n",
      " |  \n",
      " |  real\n",
      " |      the real part of a complex number\n",
      "\n"
     ]
    }
   ],
   "source": [
    "help(complex())"
   ]
  },
  {
   "cell_type": "markdown",
   "metadata": {},
   "source": [
    "### $\\mathbb{C}$ operations in Python"
   ]
  },
  {
   "cell_type": "code",
   "execution_count": 130,
   "metadata": {},
   "outputs": [
    {
     "data": {
      "text/plain": [
       "(3+4j)"
      ]
     },
     "execution_count": 130,
     "metadata": {},
     "output_type": "execute_result"
    }
   ],
   "source": [
    "(1+1j)+(2+3j) # adding two complex numbers"
   ]
  },
  {
   "cell_type": "code",
   "execution_count": 131,
   "metadata": {},
   "outputs": [
    {
     "data": {
      "text/plain": [
       "(11-2j)"
      ]
     },
     "execution_count": 131,
     "metadata": {},
     "output_type": "execute_result"
    }
   ],
   "source": [
    "(1-2j)*(3+4j) # complex multiplication"
   ]
  },
  {
   "cell_type": "code",
   "execution_count": 132,
   "metadata": {},
   "outputs": [
    {
     "data": {
      "text/plain": [
       "(-0.6+0.8j)"
      ]
     },
     "execution_count": 132,
     "metadata": {},
     "output_type": "execute_result"
    }
   ],
   "source": [
    "(1+2j)/(1-2j) # complex division"
   ]
  },
  {
   "cell_type": "code",
   "execution_count": 133,
   "metadata": {},
   "outputs": [
    {
     "data": {
      "text/plain": [
       "(-5+12j)"
      ]
     },
     "execution_count": 133,
     "metadata": {},
     "output_type": "execute_result"
    }
   ],
   "source": [
    "(2+3j)**2 # squaring a complex number"
   ]
  },
  {
   "cell_type": "code",
   "execution_count": 134,
   "metadata": {},
   "outputs": [
    {
     "data": {
      "text/plain": [
       "(0.7071067811865476+0.7071067811865475j)"
      ]
     },
     "execution_count": 134,
     "metadata": {},
     "output_type": "execute_result"
    }
   ],
   "source": [
    "cm.sqrt(1j) # roots of a complex number"
   ]
  },
  {
   "cell_type": "markdown",
   "metadata": {},
   "source": [
    "There are other ways of handling complex numbers, making their manipulation more convenient and intuitive. The complex number $z=x+iy$ can be expressed as a two-tuple $z=(x,y)$, using the python function complex(x,y)."
   ]
  },
  {
   "cell_type": "markdown",
   "metadata": {},
   "source": [
    "The complex numbers together with their Python expressions\n",
    "\n",
    "${z_1}=2+3i$ is written as complex(2,3)\n",
    "\n",
    "${z_2}=i$ is written as complex(0,1)\n",
    "\n",
    "${z_3}=1$ is written as complex(1,0)"
   ]
  },
  {
   "cell_type": "code",
   "execution_count": 135,
   "metadata": {},
   "outputs": [
    {
     "name": "stdout",
     "output_type": "stream",
     "text": [
      "(2+4j)\n"
     ]
    }
   ],
   "source": [
    "z1=complex(2,3) \n",
    "z2=complex(0,1)\n",
    "print(z1+z2)"
   ]
  },
  {
   "cell_type": "code",
   "execution_count": 136,
   "metadata": {},
   "outputs": [
    {
     "name": "stdout",
     "output_type": "stream",
     "text": [
      "(0.7071067811865476+0.7071067811865475j)\n"
     ]
    }
   ],
   "source": [
    "from cmath import * # less sublime way!\n",
    "print(sqrt(z2))"
   ]
  },
  {
   "cell_type": "markdown",
   "metadata": {},
   "source": [
    "The length of z is the modulus given by \n",
    "$$|z|=\\sqrt{x^2+y^2}$$\n",
    "The one parameter function **abs()** gives the modulus"
   ]
  },
  {
   "cell_type": "code",
   "execution_count": 137,
   "metadata": {},
   "outputs": [
    {
     "data": {
      "text/plain": [
       "3.605551275463989"
      ]
     },
     "execution_count": 137,
     "metadata": {},
     "output_type": "execute_result"
    }
   ],
   "source": [
    "abs(z1)"
   ]
  },
  {
   "cell_type": "markdown",
   "metadata": {},
   "source": [
    "Calculating the real and imaginary part of $z\\in\\mathbb{C}$ can be achieved using the methods **real** and **imag** respectively"
   ]
  },
  {
   "cell_type": "code",
   "execution_count": 138,
   "metadata": {},
   "outputs": [
    {
     "data": {
      "text/plain": [
       "2.0"
      ]
     },
     "execution_count": 138,
     "metadata": {},
     "output_type": "execute_result"
    }
   ],
   "source": [
    "z1.real"
   ]
  },
  {
   "cell_type": "code",
   "execution_count": 139,
   "metadata": {},
   "outputs": [
    {
     "data": {
      "text/plain": [
       "3.0"
      ]
     },
     "execution_count": 139,
     "metadata": {},
     "output_type": "execute_result"
    }
   ],
   "source": [
    "z1.imag"
   ]
  },
  {
   "cell_type": "markdown",
   "metadata": {},
   "source": [
    "The argument of $𝑧$, written $arg(z)$ is the angle between $𝑧(𝑥,𝑦)$ and the real axis. The one parameter function **phase()** evaluates the argument, in radians. The principal value is given, i.e $-\\pi\\leq\\arg(z)\\leq\\pi$"
   ]
  },
  {
   "cell_type": "code",
   "execution_count": 140,
   "metadata": {},
   "outputs": [
    {
     "data": {
      "text/plain": [
       "0.7853981633974483"
      ]
     },
     "execution_count": 140,
     "metadata": {},
     "output_type": "execute_result"
    }
   ],
   "source": [
    "phase(complex(1,1)) # 45 degrees"
   ]
  },
  {
   "cell_type": "markdown",
   "metadata": {},
   "source": [
    "Converting complex numbers from Cartesian $(x,y)$ to polar form $(r,\\theta)$ is a fairly straightforward mathematical exercise. How is this done in Python? A single argument function **polar()** achieves this conversion\n"
   ]
  },
  {
   "cell_type": "code",
   "execution_count": 141,
   "metadata": {},
   "outputs": [
    {
     "data": {
      "text/plain": [
       "(1.0, 1.5707963267948966)"
      ]
     },
     "execution_count": 141,
     "metadata": {},
     "output_type": "execute_result"
    }
   ],
   "source": [
    "polar(0+1j)"
   ]
  },
  {
   "cell_type": "code",
   "execution_count": 142,
   "metadata": {},
   "outputs": [
    {
     "data": {
      "text/plain": [
       "(1.0, 1.5707963267948966)"
      ]
     },
     "execution_count": 142,
     "metadata": {},
     "output_type": "execute_result"
    }
   ],
   "source": [
    "polar(complex(0,1))"
   ]
  },
  {
   "cell_type": "code",
   "execution_count": 143,
   "metadata": {},
   "outputs": [
    {
     "data": {
      "text/plain": [
       "4.0"
      ]
     },
     "execution_count": 143,
     "metadata": {},
     "output_type": "execute_result"
    }
   ],
   "source": [
    "complex(4,1).real # returns the real part"
   ]
  },
  {
   "cell_type": "code",
   "execution_count": 144,
   "metadata": {},
   "outputs": [
    {
     "data": {
      "text/plain": [
       "-2.0"
      ]
     },
     "execution_count": 144,
     "metadata": {},
     "output_type": "execute_result"
    }
   ],
   "source": [
    "complex(3,-2).imag # returns imaginary part"
   ]
  },
  {
   "cell_type": "markdown",
   "metadata": {},
   "source": [
    "# Exercises\n",
    "There are numerous exercises in this chapter to help review the first four chapters. Consider using any of the libraries referenced earlier including https://docs.python.org/3/library/math.html  \n",
    "1. Write a short program that displays your name and complete mailing address formatted in the manner that you would usually see it on the outside of an envelope. Your program should take input from the user.\n",
    "2. Evaluate the following expressions: $7-15$; $3^7+16/3$; $\\sqrt{12}-e^{4}$ using a line of syntax for each.\n",
    "3. Write Python code to calculate the expression $\\sqrt{(4x^{2}+\\pi) }x^{5}\\log _{4}x$, for a choice of $x>0$.\n",
    "4. Calculate $\\sin\\left \\{\\dfrac{1}{x^2+1}\\right\\}$ for $x=3.3$.\n",
    "5. The normal body temperature of a human is 37 degrees Celsius $C$. Convert this to degrees Fahrenheit $F$ using the expression $$C=\\dfrac{5}{9}(F-32)$$.\n",
    "6. The volume of blood in a human body is approximately 4.7 to 5.5 litres. Convert this range to both pints and gallons.\n",
    "7. Create a program that inputs from the user, two integers, $a$ and $b$. Compute and display:\n",
    "> * The sum of $a$ and $b$\n",
    "> * The difference when $b$ is subtracted from $a$\n",
    "> * The absolute value of the difference\n",
    "> * The product of $a$ and $b$\n",
    ">\n",
    "> * The quotient when $a$ is divided by $b$\n",
    ">\n",
    ">* The remainder when $a$ is divided by $b$\n",
    ">\n",
    ">* The result $\\log_{10}a$\n",
    "8. Write a short program to read in a users weight in kg. Then convert this amount into pounds and stones. **Hint:** 2.2lbs$\\equiv$1kg and 1 stone is 14lbs. \n",
    "9. A clinic currently measures the heights of patients in centimetres. You have been asked to assist them by writing a short Python program that reads in this information, to convert and display into feet and inches. **Hint:** One foot is 12 inches. One inch is 2.54 centimeters.\n",
    "10. The volume of a cylinder can be obtained by multiplying the area of its circular base by its height. Write a program that reads the radius of the cylinder, along with its height, from the user and computes its volume. Display the result rounded to two decimal places. The volume $V$ of a circular cone, radius $r$, and vertical height (from base to vertex) $h$ is given by $V=\\pi$$r^2{\\dfrac{h}{3}}$\n",
    "11. 180 degrees is equivalent to $\\pi$ radians. Write a program to convert degrees to radians. The user should input the degrees for conversion.\n",
    "12. This question involves using Python syntax to perform arithmetic on complex numbers. Let $z_{1}=3+5i$; $z_{2}=7-i$; $z_{3}=3-2i$ and $z_{4}=4+5i$. \n",
    ">* Calculate $z_{1}\\pm{z_{2}}$; $z_{3}{z_{4}}$; $\\dfrac{z_{3}}{z_{4}}$. What are the real and imaginary parts of $\\dfrac{z_{3}}{z_{4}}$\n",
    ">* Repeat the above by expressing each complex number in polar form, to validate your answers.\n",
    "13. You have just opened a new savings account. The risk-free interest rate is 3.6%  per annum compounded discretely. Write a program that begins by reading the amount of money deposited into the account from the user, as well as the rate of interest. Then your program should compute and display the amount in the savings account after 1, 2, and 3 years. Display each amount so that it is rounded to 2 decimal places. Repeat this exercise for the case where the risk free rate is continuously compounded. \n",
    "14. This problem is on discounting. Calculate the current worth of £5000 in 3 years time if the interest rate is 6% continuously compounded. "
   ]
  }
 ],
 "metadata": {
  "author": "mes",
  "kernelspec": {
   "display_name": "Python 3",
   "language": "python",
   "name": "python3"
  },
  "language_info": {
   "codemirror_mode": {
    "name": "ipython",
    "version": 3
   },
   "file_extension": ".py",
   "mimetype": "text/x-python",
   "name": "python",
   "nbconvert_exporter": "python",
   "pygments_lexer": "ipython3",
   "version": "3.6.1"
  },
  "latex_envs": {
   "LaTeX_envs_menu_present": true,
   "autoclose": false,
   "autocomplete": true,
   "bibliofile": "biblio.bib",
   "cite_by": "apalike",
   "current_citInitial": 1,
   "eqLabelWithNumbers": true,
   "eqNumInitial": 1,
   "hotkeys": {
    "equation": "Ctrl-E",
    "itemize": "Ctrl-I"
   },
   "labels_anchors": false,
   "latex_user_defs": false,
   "report_style_numbering": false,
   "user_envs_cfg": false
  },
  "nbTranslate": {
   "displayLangs": [
    "*"
   ],
   "hotkey": "alt-t",
   "langInMainMenu": true,
   "sourceLang": "en",
   "targetLang": "fr",
   "useGoogleTranslate": true
  },
  "toc": {
   "base_numbering": 1,
   "nav_menu": {},
   "number_sections": true,
   "sideBar": true,
   "skip_h1_title": false,
   "title_cell": "Table of Contents",
   "title_sidebar": "Contents",
   "toc_cell": false,
   "toc_position": {
    "height": "calc(100% - 180px)",
    "left": "10px",
    "top": "150px",
    "width": "255.98px"
   },
   "toc_section_display": true,
   "toc_window_display": true
  },
  "varInspector": {
   "cols": {
    "lenName": 16,
    "lenType": 16,
    "lenVar": 40
   },
   "kernels_config": {
    "python": {
     "delete_cmd_postfix": "",
     "delete_cmd_prefix": "del ",
     "library": "var_list.py",
     "varRefreshCmd": "print(var_dic_list())"
    },
    "r": {
     "delete_cmd_postfix": ") ",
     "delete_cmd_prefix": "rm(",
     "library": "var_list.r",
     "varRefreshCmd": "cat(var_dic_list()) "
    }
   },
   "types_to_exclude": [
    "module",
    "function",
    "builtin_function_or_method",
    "instance",
    "_Feature"
   ],
   "window_display": false
  }
 },
 "nbformat": 4,
 "nbformat_minor": 2
}
